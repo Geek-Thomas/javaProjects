{
 "cells": [
  {
   "cell_type": "markdown",
   "id": "e9bb8456-9e09-4995-af6b-b801d22d9ea9",
   "metadata": {},
   "source": [
    "# 分类分析\n",
    "\n",
    "回归和分类是数据分析的两大重要任务，它们最大的区别在于因变量的类别：回归分析的因变量是连续变量；分类分析的因变量是分类属性变量。与回归分析一样，在进行分类分析之前，我们必须要弄清楚我们建模的目的是推断还是预测，任务的不同将很大程度决定我们建模所采用的方法论的不同——如果是以推断/分析为主，那么我们在建模时所采用的模型最好是易于解释的白盒模型，如一众线性模型；如果是以预测为主，则我们建模的依据主要是预测的精度，模型的可解释性相对而言不那么重要。\n",
    "\n",
    "对于分类任务而言，当前预测精度高的模型基本上都是深度学习/机器学习模型（如：支持向量机、随机森林、Xgboost等），而这些模型的可解释性一般都很差，我们难以在这些模型中寻找变量之间的依存信息。而如果我们追求分类模型的可解释性，探究各自变量对分类决策的影响，那么使用线性模型框架下的分类模型就比较合适了（如：Logistic回归、Probit回归等）。\n",
    "\n",
    "本次主要涉及到解释性较强的分类模型。"
   ]
  },
  {
   "cell_type": "markdown",
   "id": "aa9543d5-5ec2-4af8-86df-59677e3bfa0f",
   "metadata": {},
   "source": [
    "## 1. 分类问题  \n",
    "分类问题根据被分类对象的类别可以划分为三类：二分类问题、无序多分类问题、有序多分类问题。我们先结合例子来简单介绍。  \n",
    "二分类问题是最常见的分类问题，主要用来解决只有两类结果(0/1,是/否,true/false等)的问题，如预测一封邮件**是否**为垃圾文件。通常这类问题可以使用logistic/probit回归实现。  \n",
    "无序多分类问题是二分类问题的拓展，主要是用来解决多种分类结果的问题。比如对于天气的预测，就可能存在晴、雨、阴天、多云这四个分类，此时可以通过多分类Logistic回归实现。  \n",
    "有序多分类问题则是分类的结果是多个有大小先后顺序的分类，比如满意度调查的不满意/一般/满意三个选项，关于满意度是有大小顺序的，此时可以通过有序Logistic回归实现。"
   ]
  },
  {
   "cell_type": "markdown",
   "id": "5fb750ba-3576-46c8-b098-9cf57dc69009",
   "metadata": {},
   "source": [
    "## 2. 二分类问题  \n",
    "在二分类问题中，是如何进行分类的呢。其实二分类本质上还是回归问题，只不过回归得到的是某个类别的概率，然后需要将概率映射到类别。我们通过一个例子来说明：  \n",
    "我们想研究被ST的公司其背后的因素，并尝试通过利用公司的财务指标提前预测某上市公司在未来是否会被ST。而在这项任务中，因变量就是公司是否会被ST，数学表示为：\n",
    "\n",
    "$$\n",
    "y= \\begin{cases}1, & S T \\\\ 0, & \\text { Otherwise }\\end{cases}\n",
    "$$\n",
    "\n",
    "\n",
    "**· 概率的映射**\n",
    "\n",
    "与回归问题因变量天然确定的情况不一样，分类问题中概率的形式是需要我们人为确定的，即我们要确定如何将线性模型的直接输出值$y$映射成概率值$P(y=1 \\mid x)$。\n",
    "\n",
    "我们可以看到多元线性模型\n",
    "$$\n",
    "y=\\beta_{0}+\\beta_{1} x_{1}+\\cdots+\\beta_{k} x_{k}+u\n",
    "$$\n",
    "的输出值$y$是一个连续变量，而概率也是一个连续的变量，那么我们能不能让这个输出值$y=P(y=1 \\mid x)$呢？即有\n",
    "$$\n",
    "P(y=1\\mid x)=y=\\beta _0+\\beta _1x_1+\\cdots +\\beta _kx_k+u\n",
    "$$\n",
    "这样做有一个最大的缺点——$\\hat{y}$可能不在区间(0,1)内，而概率只能在(0,1)区间内。（当然，还有其他的缺点，但大家只需要记住这个就可以了）\n",
    "\n",
    "因此，我们需要将$y$放在一个映射函数中，将之映射为一个概率。而映射函数的不同决定了模型的形式、解释、训练方法的不同。在这里，我们介绍两种映射函数——Logistic函数与Probit函数\n",
    "\n",
    "若映射函数为Logistic函数\n",
    "$$\n",
    "G(y)=\\frac{1}{1+e^{-y}}\n",
    "$$\n",
    "则整个预测模型被称为Logistic线性回归模型\n",
    "\n",
    "若映射函数为Probit函数\n",
    "$$\n",
    "\\Phi(y)=P(Y \\leq y)=\\int_{-\\infty}^{y} \\frac{1}{\\sqrt{2 \\pi}} \\exp \\left(-\\frac{1}{2} x^{2}\\right) d x\n",
    "$$\n",
    "则整个预测模型被称为Probit线性回归模型。注意到，Probit函数实际上就是标准正态分布的累积函数。\n",
    "\n",
    "这两个函数的形状如下："
   ]
  },
  {
   "cell_type": "code",
   "execution_count": 1,
   "id": "0f861dfe-6712-4bac-86bb-b70cdba8bc37",
   "metadata": {},
   "outputs": [],
   "source": [
    "# 加载基础包\n",
    "import pandas as pd\n",
    "import numpy as np\n",
    "import statsmodels.api as sm\n",
    "from scipy import stats\n",
    "import matplotlib.pyplot as plt\n",
    "\n",
    "plt.style.use('ggplot')"
   ]
  },
  {
   "cell_type": "code",
   "execution_count": 2,
   "id": "7eb81837-27be-4772-b4cb-70631ffe5b87",
   "metadata": {},
   "outputs": [
    {
     "data": {
      "image/png": "[encoded data removed]",
      "text/plain": [
       "<Figure size 432x288 with 1 Axes>"
      ]
     },
     "metadata": {},
     "output_type": "display_data"
    }
   ],
   "source": [
    "def logistic(y):\n",
    "    return 1 / (1 + np.exp(-y))\n",
    "\n",
    "def probit(y):\n",
    "    return stats.norm.cdf(y, loc=0, scale=1)\n",
    "\n",
    "y = np.linspace(-4, 4, 50)\n",
    "logistic_y = logistic(y)\n",
    "probit_y = probit(y)\n",
    "plt.plot(y, logistic_y, label='logistic')\n",
    "plt.plot(y, probit_y, label='probit')\n",
    "plt.legend();"
   ]
  },
  {
   "cell_type": "markdown",
   "id": "5a06c922-4806-4d4f-90b2-35d8477e18d1",
   "metadata": {},
   "source": [
    "可以看到，这两个函数都具有单调递增性质的可逆函数，且值域位于(0,1)之间，是理想的概率映射函数。"
   ]
  },
  {
   "cell_type": "markdown",
   "id": "849a762d-661b-40b9-89a3-dc9854f990d8",
   "metadata": {},
   "source": [
    "### 2.1. Logistic线性回归模型  \n",
    "**· 模型形式**\n",
    "\n",
    "记$y=x^{\\prime} \\beta=\\beta_{0}+\\beta_{1} x_{1}+\\cdots+\\beta_{k} x_{k}$，则Logistic回归模型形式为\n",
    "$$\n",
    "P(y=1 \\mid x)=p\\left( x \\right) =\\frac{1}{1+e^{-y}}=\\frac{1}{1+e^{-x^{'}\\beta}}\n",
    "$$\n",
    "我们可以对以上形式进行处理，得到我们回归课程中的模型形式\n",
    "$$\n",
    "\\begin{align}\n",
    "\\frac{1}{1+e^{-y}}&=p(x) \\\\\n",
    "e^{-y}&=\\frac{1}{p(x)}-1=\\frac{1-p(x)}{p(x)} \\\\\n",
    "-y&=\\log{\\frac{1-p(x)}{p(x)}} \\\\\n",
    "y&=\\log\\frac{p(x)}{1-p(x)}\n",
    "\\end{align}\n",
    "$$\n",
    "也就是说\n",
    "$$\n",
    "\\log \\left(\\frac{p(x)}{1-p(x)}\\right)=\\beta_{0}+\\beta_{1} x_{1}+\\cdots+\\beta_{k} x_{k}\n",
    "$$\n",
    "这个模型形式告诉我们，Logistic回归模型与一般多元回归模型的一大区别在于，前者的因变量是一个有关概率$p\\left( y=1|x \\right) $的函数，而后者的因变量只是其本身。"
   ]
  },
  {
   "cell_type": "markdown",
   "id": "dedf7c05-9b72-4fb4-adfb-dd2f639d6d54",
   "metadata": {},
   "source": [
    "**· 模型解释**  \n",
    "​\n",
    "要想解释这个模型中每个变量系数的意义，首先要弄清楚$\\displaystyle{\\log \\left(\\frac{p(x)}{1-p(x)}\\right)}$的含义。\n",
    "​\n",
    "如果把$y=1$看作“成功”，$y=0$看作失败，则$p(x) /[1-p(x)]$就是成功与失败的概率比，被称为胜率(odd)。因此对于系数$\\beta_j$，我们的解释是：当其他自变量不变时，变量$x_i$提升一个单位，胜率odd会提升$\\beta_j \\%$。"
   ]
  },
  {
   "cell_type": "code",
   "execution_count": 3,
   "id": "ac83e952-849c-44f0-9ca4-8360a40e2b29",
   "metadata": {},
   "outputs": [
    {
     "data": {
      "text/html": [
       "<div>\n",
       "<style scoped>\n",
       "    .dataframe tbody tr th:only-of-type {\n",
       "        vertical-align: middle;\n",
       "    }\n",
       "\n",
       "    .dataframe tbody tr th {\n",
       "        vertical-align: top;\n",
       "    }\n",
       "\n",
       "    .dataframe thead th {\n",
       "        text-align: right;\n",
       "    }\n",
       "</style>\n",
       "<table border=\"1\" class=\"dataframe\">\n",
       "  <thead>\n",
       "    <tr style=\"text-align: right;\">\n",
       "      <th></th>\n",
       "      <th>ARA</th>\n",
       "      <th>ASSET</th>\n",
       "      <th>ATO</th>\n",
       "      <th>ROA</th>\n",
       "      <th>GROWTH</th>\n",
       "      <th>LEV</th>\n",
       "      <th>SHARE</th>\n",
       "      <th>ST</th>\n",
       "    </tr>\n",
       "  </thead>\n",
       "  <tbody>\n",
       "    <tr>\n",
       "      <th>0</th>\n",
       "      <td>0.192310</td>\n",
       "      <td>19.856048</td>\n",
       "      <td>0.0052</td>\n",
       "      <td>0.087710</td>\n",
       "      <td>-0.950727</td>\n",
       "      <td>0.445880</td>\n",
       "      <td>26.89</td>\n",
       "      <td>0</td>\n",
       "    </tr>\n",
       "    <tr>\n",
       "      <th>1</th>\n",
       "      <td>0.220120</td>\n",
       "      <td>20.910863</td>\n",
       "      <td>0.0056</td>\n",
       "      <td>0.016820</td>\n",
       "      <td>-0.942656</td>\n",
       "      <td>0.398686</td>\n",
       "      <td>39.62</td>\n",
       "      <td>0</td>\n",
       "    </tr>\n",
       "    <tr>\n",
       "      <th>2</th>\n",
       "      <td>0.325292</td>\n",
       "      <td>19.352623</td>\n",
       "      <td>0.0166</td>\n",
       "      <td>0.042468</td>\n",
       "      <td>-0.937440</td>\n",
       "      <td>0.303348</td>\n",
       "      <td>26.46</td>\n",
       "      <td>0</td>\n",
       "    </tr>\n",
       "    <tr>\n",
       "      <th>3</th>\n",
       "      <td>0.025729</td>\n",
       "      <td>21.438928</td>\n",
       "      <td>0.0028</td>\n",
       "      <td>0.018152</td>\n",
       "      <td>-0.852995</td>\n",
       "      <td>0.758250</td>\n",
       "      <td>60.16</td>\n",
       "      <td>0</td>\n",
       "    </tr>\n",
       "    <tr>\n",
       "      <th>4</th>\n",
       "      <td>0.533591</td>\n",
       "      <td>21.613339</td>\n",
       "      <td>0.2552</td>\n",
       "      <td>0.004147</td>\n",
       "      <td>-0.816704</td>\n",
       "      <td>0.726875</td>\n",
       "      <td>54.24</td>\n",
       "      <td>1</td>\n",
       "    </tr>\n",
       "  </tbody>\n",
       "</table>\n",
       "</div>"
      ],
      "text/plain": [
       "        ARA      ASSET     ATO       ROA    GROWTH       LEV  SHARE  ST\n",
       "0  0.192310  19.856048  0.0052  0.087710 -0.950727  0.445880  26.89   0\n",
       "1  0.220120  20.910863  0.0056  0.016820 -0.942656  0.398686  39.62   0\n",
       "2  0.325292  19.352623  0.0166  0.042468 -0.937440  0.303348  26.46   0\n",
       "3  0.025729  21.438928  0.0028  0.018152 -0.852995  0.758250  60.16   0\n",
       "4  0.533591  21.613339  0.2552  0.004147 -0.816704  0.726875  54.24   1"
      ]
     },
     "execution_count": 3,
     "metadata": {},
     "output_type": "execute_result"
    }
   ],
   "source": [
    "# 读取数据\n",
    "ST=pd.read_csv('./data/ST.csv')\n",
    "ST.head()"
   ]
  },
  {
   "cell_type": "code",
   "execution_count": 4,
   "id": "856d6ab4-8124-4195-b5d5-e1f623e0080d",
   "metadata": {},
   "outputs": [
    {
     "name": "stdout",
     "output_type": "stream",
     "text": [
      "模型公式：ST~ARA+ASSET+ATO+ROA+GROWTH+LEV+SHARE\n",
      "Optimization terminated successfully.\n",
      "         Current function value: 0.183849\n",
      "         Iterations 8\n",
      "                           Logit Regression Results                           \n",
      "==============================================================================\n",
      "Dep. Variable:                     ST   No. Observations:                  684\n",
      "Model:                          Logit   Df Residuals:                      676\n",
      "Method:                           MLE   Df Model:                            7\n",
      "Date:                Sun, 24 Jul 2022   Pseudo R-squ.:                  0.1084\n",
      "Time:                        03:34:43   Log-Likelihood:                -125.75\n",
      "converged:                       True   LL-Null:                       -141.04\n",
      "Covariance Type:            nonrobust   LLR p-value:                 7.477e-05\n",
      "==============================================================================\n",
      "                 coef    std err          z      P>|z|      [0.025      0.975]\n",
      "------------------------------------------------------------------------------\n",
      "Intercept     -8.8692      4.636     -1.913      0.056     -17.955       0.217\n",
      "ARA            4.8797      1.492      3.270      0.001       1.955       7.805\n",
      "ASSET          0.2466      0.224      1.100      0.271      -0.193       0.686\n",
      "ATO           -0.5074      0.657     -0.772      0.440      -1.796       0.781\n",
      "ROA           -0.6366      6.224     -0.102      0.919     -12.835      11.562\n",
      "GROWTH        -0.8333      0.567     -1.470      0.142      -1.945       0.278\n",
      "LEV            2.3542      1.201      1.960      0.050      -0.001       4.709\n",
      "SHARE         -0.0111      0.011     -0.997      0.319      -0.033       0.011\n",
      "==============================================================================\n"
     ]
    }
   ],
   "source": [
    "formula = \"ST~\" + \"+\".join(ST.columns[:-1])\n",
    "print(f\"模型公式：{formula}\")\n",
    "ST_logit = sm.formula.logit(formula, data=ST).fit()\n",
    "print(ST_logit.summary())"
   ]
  },
  {
   "cell_type": "markdown",
   "id": "02401e09-d252-413e-a873-cf8c0ecede92",
   "metadata": {},
   "source": [
    "### 2.2. Probit回归模型  \n",
    "**· 模型形式**\n",
    "\n",
    "Probit回归模型形式为\n",
    "$$\n",
    "p(x)=\\Phi\\left(x^{\\prime} \\beta\\right)\n",
    "$$\n",
    "其中，$\\Phi$就是标准正态分布的累积函数\n",
    "\n",
    "**· 模型解释**\n",
    "\n",
    "Probit模型的系数解释不直观，但可以确定的是，当$\\beta_j>0$时，$x_j$的增加会导致响应概率$p(x)$的增加。"
   ]
  },
  {
   "cell_type": "code",
   "execution_count": 5,
   "id": "0ce1a08e-d492-444f-ac05-8ecc562ec45e",
   "metadata": {},
   "outputs": [
    {
     "name": "stdout",
     "output_type": "stream",
     "text": [
      "Optimization terminated successfully.\n",
      "         Current function value: 0.183018\n",
      "         Iterations 7\n",
      "                          Probit Regression Results                           \n",
      "==============================================================================\n",
      "Dep. Variable:                     ST   No. Observations:                  684\n",
      "Model:                         Probit   Df Residuals:                      676\n",
      "Method:                           MLE   Df Model:                            7\n",
      "Date:                Sun, 24 Jul 2022   Pseudo R-squ.:                  0.1124\n",
      "Time:                        03:34:43   Log-Likelihood:                -125.18\n",
      "converged:                       True   LL-Null:                       -141.04\n",
      "Covariance Type:            nonrobust   LLR p-value:                 4.612e-05\n",
      "==============================================================================\n",
      "                 coef    std err          z      P>|z|      [0.025      0.975]\n",
      "------------------------------------------------------------------------------\n",
      "Intercept     -4.9545      2.210     -2.242      0.025      -9.286      -0.623\n",
      "ARA            2.6467      0.767      3.450      0.001       1.143       4.150\n",
      "ASSET          0.1354      0.107      1.263      0.207      -0.075       0.346\n",
      "ATO           -0.2329      0.306     -0.761      0.447      -0.833       0.367\n",
      "ROA            0.6696      2.504      0.267      0.789      -4.239       5.578\n",
      "GROWTH        -0.4733      0.274     -1.727      0.084      -1.010       0.064\n",
      "LEV            1.1952      0.590      2.025      0.043       0.038       2.352\n",
      "SHARE         -0.0050      0.005     -0.959      0.337      -0.015       0.005\n",
      "==============================================================================\n"
     ]
    }
   ],
   "source": [
    "ST_probit = sm.formula.probit(formula, data=ST).fit()\n",
    "print(ST_probit.summary())"
   ]
  },
  {
   "cell_type": "markdown",
   "id": "410e9ba0-f61c-4478-8ad8-0ced67c1fd7a",
   "metadata": {},
   "source": [
    "### 2.3. 统计推断  \n",
    "Logistic回归与Probit回归在统计推断上是一致的。与OLS估计的多元线性回归不同的是，这两种分类回归模型采用的是极大似然估计法（关于极大似然估计，可以查看往期打卡[动手学数学-数理统计](https://mp.weixin.qq.com/s?__biz=MzIxMjE3Nzg5Nw==&mid=2247487757&idx=1&sn=8e3452c09f72a1324c04207ea2e0a0ab&chksm=974b578ba03cde9d39a723759a707612f944937099966c85b103435f0445329c84584a81ab5d&token=1364738873&lang=zh_CN#rd)）对模型参数进行估计，在极大似然估计的一般理论下，我们可以证明模型估计系数$\\hat{\\beta}$是$\\beta$的一致估计。\n",
    "\n",
    "基于极大似然估计的Logistic回归与Probit回归与基于OLS的多元线性回归在参数假设检验的思想上是相似的，只不过它们的检验统计量所服从的分布会有所不同。\n",
    "\n",
    "**· 单参数显著性检验**\n",
    "\n",
    "假设设置如下：\n",
    "$$H_{0}: \\beta_{j}=\\beta_{j 0} \\leftrightarrow H_{1}: \\beta_{j} \\neq \\beta_{j 0}$$\n",
    "则单参数检验统计量为\n",
    "$$\n",
    "\\frac{\\hat{\\beta}_{j}-\\beta_{j}}{s d\\left(\\hat{\\beta}_{j}\\right)} \\Rightarrow N(0,1)\n",
    "$$\n",
    "该统计量渐进服从标准正态分布，可以看到，python中播报的也是z统计量的p值。"
   ]
  },
  {
   "cell_type": "code",
   "execution_count": 6,
   "id": "38f7219e-d5af-46d9-a5ae-037a70f7f342",
   "metadata": {},
   "outputs": [
    {
     "name": "stdout",
     "output_type": "stream",
     "text": [
      "logistic回归报告\n",
      "==============================================================================\n",
      "                 coef    std err          z      P>|z|      [0.025      0.975]\n",
      "------------------------------------------------------------------------------\n",
      "Intercept     -8.8692      4.636     -1.913      0.056     -17.955       0.217\n",
      "ARA            4.8797      1.492      3.270      0.001       1.955       7.805\n",
      "ASSET          0.2466      0.224      1.100      0.271      -0.193       0.686\n",
      "ATO           -0.5074      0.657     -0.772      0.440      -1.796       0.781\n",
      "ROA           -0.6366      6.224     -0.102      0.919     -12.835      11.562\n",
      "GROWTH        -0.8333      0.567     -1.470      0.142      -1.945       0.278\n",
      "LEV            2.3542      1.201      1.960      0.050      -0.001       4.709\n",
      "SHARE         -0.0111      0.011     -0.997      0.319      -0.033       0.011\n",
      "==============================================================================\n",
      "--------------------------------------------------\n",
      "probit回归报告\n",
      "==============================================================================\n",
      "                 coef    std err          z      P>|z|      [0.025      0.975]\n",
      "------------------------------------------------------------------------------\n",
      "Intercept     -4.9545      2.210     -2.242      0.025      -9.286      -0.623\n",
      "ARA            2.6467      0.767      3.450      0.001       1.143       4.150\n",
      "ASSET          0.1354      0.107      1.263      0.207      -0.075       0.346\n",
      "ATO           -0.2329      0.306     -0.761      0.447      -0.833       0.367\n",
      "ROA            0.6696      2.504      0.267      0.789      -4.239       5.578\n",
      "GROWTH        -0.4733      0.274     -1.727      0.084      -1.010       0.064\n",
      "LEV            1.1952      0.590      2.025      0.043       0.038       2.352\n",
      "SHARE         -0.0050      0.005     -0.959      0.337      -0.015       0.005\n",
      "==============================================================================\n"
     ]
    }
   ],
   "source": [
    "print('logistic回归报告')\n",
    "print(ST_logit.summary().tables[1])\n",
    "print('--------------------------------------------------')\n",
    "print('probit回归报告')\n",
    "print(ST_probit.summary().tables[1])"
   ]
  },
  {
   "cell_type": "markdown",
   "id": "ffaf5155-cb8a-4fa0-9777-c00d2fdc7acc",
   "metadata": {},
   "source": [
    "**· 多参数联合显著性检验**\n",
    "\n",
    "在Logit模型与Probit模型中，我们同样可以检验部分因素的统计显著性，且检验的思想依旧是比较有约束模型与无约束模型的“差异度”。与多元线性回归模型不一样的是，分类模型没有残差平方和RSS的概念，那么联合检验的检验统计量自然也不是原来的F统计量了。但是，在似然理论下，存在一个比残差平方和更广泛的概念——离差(Deviance)，定义为\n",
    "$$\n",
    "\\,\\,\\mathrm{Deviance} =-2\\cdot log\\left( likelihood(model) \\right) \n",
    "$$\n",
    "它是-2倍的模型对数似然比，而模型的对数似然比在summary播报中正是指标Log-Likelihood。\n",
    "\n",
    "当两个模型的离差足够大时\n",
    "$$\n",
    "D_{r}-D_{u r}>C\n",
    "$$\n",
    "我们便可以拒绝原假设，认为参数是联合显著的。\n",
    "\n",
    "与其他假设检验一样，我们需要知道该检验所采用的检验统计量及其服从的分布，计算p值后再判断是否拒绝原假设。在这个检验中，似然比检验统计量定义为\n",
    "$$\n",
    "L R=-2\\left(l_{r}-l_{u r}\\right)=D_{r}-D_{u r} \\sim^{H_{0}} \\chi_{q}^{2}\n",
    "$$\n",
    "它服从自由度为约束个数$q$的卡方分布，因此我们需要用卡方分布累积分布函数。\n",
    "\n",
    "我们用python实现logit模型多参数显著性检验，原假设设为\n",
    "$$\n",
    "H_{0}: \\beta_{1}=\\beta_{2}=\\cdots=\\beta_{7}=0\n",
    "$$"
   ]
  },
  {
   "cell_type": "code",
   "execution_count": 7,
   "id": "49766c23-34df-4340-84ce-8d28d24c558e",
   "metadata": {},
   "outputs": [
    {
     "name": "stdout",
     "output_type": "stream",
     "text": [
      "Optimization terminated successfully.\n",
      "         Current function value: 0.206192\n",
      "         Iterations 7\n",
      "                           Logit Regression Results                           \n",
      "==============================================================================\n",
      "Dep. Variable:                     ST   No. Observations:                  684\n",
      "Model:                          Logit   Df Residuals:                      683\n",
      "Method:                           MLE   Df Model:                            0\n",
      "Date:                Sun, 24 Jul 2022   Pseudo R-squ.:               1.271e-12\n",
      "Time:                        03:34:43   Log-Likelihood:                -141.04\n",
      "converged:                       True   LL-Null:                       -141.04\n",
      "Covariance Type:            nonrobust   LLR p-value:                       nan\n",
      "==============================================================================\n",
      "                 coef    std err          z      P>|z|      [0.025      0.975]\n",
      "------------------------------------------------------------------------------\n",
      "Intercept     -2.8904      0.171    -16.880      0.000      -3.226      -2.555\n",
      "==============================================================================\n",
      "有约束的logit的log-likelihood：-141.03536263313057\n",
      "无约束的logit的log-likelihood：-125.75283868387727\n",
      "联合检验的p值为：7.477102949763135e-05\n"
     ]
    }
   ],
   "source": [
    "# 有约束的logit\n",
    "ST_logit_r = sm.formula.logit(\"ST~1\", data=ST).fit()\n",
    "print(ST_logit_r.summary())\n",
    "\n",
    "# 检验统计量\n",
    "ST_logit_r_ll = ST_logit_r.llf\n",
    "ST_logit_ll = ST_logit.llf\n",
    "print(f\"有约束的logit的log-likelihood：{ST_logit_r_ll}\")\n",
    "print(f\"无约束的logit的log-likelihood：{ST_logit_ll}\")\n",
    "LR = 2 * (ST_logit_ll - ST_logit_r_ll)\n",
    "\n",
    "# 计算p值\n",
    "p_value = stats.chi2.sf(LR, 7)\n",
    "print(f'联合检验的p值为：{p_value}')"
   ]
  },
  {
   "cell_type": "markdown",
   "id": "15781ba4-f477-4a6f-abec-cbb8bb54ac0b",
   "metadata": {},
   "source": [
    "### 2.4. 分类预测  \n",
    "\n",
    "模型训练完成后，我们就可以针对给定的数据进行预测了，在这里我们以Logit模型为例，简述模型预测的原理。\n",
    "\n",
    "对于一组给定的解释变量取值$x_0$，我们将之代入模型中计算概率值$p(x)$\n",
    "$$\n",
    "\\hat{p}\\left(x_{0}\\right)=\\frac{e^{x_{0}^{\\prime} \\hat{\\beta}}}{1+e^{x_{0}^{\\prime} \\hat{\\beta}}}\n",
    "$$\n",
    "这一概率是在样本自变量$x=x_0$下，$y_0=1$的概率。"
   ]
  },
  {
   "cell_type": "code",
   "execution_count": 8,
   "id": "8bd9df6f-0035-4966-9fd1-acd365417b3d",
   "metadata": {},
   "outputs": [
    {
     "name": "stdout",
     "output_type": "stream",
     "text": [
      "[0.17513856 0.2029176  0.20690489 0.16213708 0.67290575]\n"
     ]
    }
   ],
   "source": [
    "# 输出ST_logit模型对ST数据集前五个样本的预测p(x)\n",
    "logit_pred = ST_logit.predict()\n",
    "print(logit_pred[:5])"
   ]
  },
  {
   "cell_type": "markdown",
   "id": "a9f8ecde-c4a5-4280-82e9-dc284e47a17d",
   "metadata": {},
   "source": [
    "\n",
    "有了计算出来的概率，接下来就要根据概率判断样本应当被划分为1类还是0类。如何判断呢？我们可以规定一个阈值$\\alpha$，当概率$p(x)>\\alpha$时，样本被划分为1类，否则划分为0类。即\n",
    "$$\n",
    "\\hat{y}_{0}= \\begin{cases}1, & \\hat{p}\\left(x_{0}\\right)>\\alpha \\\\ 0, & \\text { Otherwise }\\end{cases}\n",
    "$$\n",
    "一般情况下，阈值$\\alpha$默认为0.5。"
   ]
  },
  {
   "cell_type": "code",
   "execution_count": 9,
   "id": "61d23b59-8f51-4db9-8c39-21aa2e14e411",
   "metadata": {},
   "outputs": [
    {
     "name": "stdout",
     "output_type": "stream",
     "text": [
      "前五个样本预测分类：\n",
      "[0 0 0 0 1]\n"
     ]
    }
   ],
   "source": [
    "print(\"前五个样本预测分类：\")\n",
    "logit_res = np.where(logit_pred > 0.5, 1, 0)\n",
    "print(logit_res[:5])"
   ]
  },
  {
   "cell_type": "markdown",
   "id": "c0e20c82-0cbd-4306-97be-38363a85e302",
   "metadata": {},
   "source": [
    "#### 2.4.1. 混淆矩阵\n",
    "使用模型完成预测后，我们想要直观地获知模型预测的效果——模型预测正确率是多少？有多少ST=1样本被正确预测了，又有多少ST=0的样本被正确预测了？仅仅依靠预测正确率，我们可以全面地评判模型的预测性能吗？是否还有其他分类指标可供我们参考？本小节我们将探讨这些问题。值得注意的是，本小节的内容适用于评判各种分类模型的预测效果，不仅仅适用于线性分类模型。\n",
    "\n",
    "我们将先介绍混淆矩阵，再介绍各种分类指标，因为这些分类指标的计算都依赖于混淆矩阵中的常量。"
   ]
  },
  {
   "cell_type": "markdown",
   "id": "60d30d02-b1b9-4b13-b332-1735b8c07e0e",
   "metadata": {},
   "source": [
    "**· 混淆矩阵**\n",
    "\n",
    "使用模型完成预测后，我们想要直观地获知模型预测的效果——模型预测正确率是多少？有多少ST=1样本被正确预测了，又有多少ST=0的样本被正确预测了？关于这些问题，我们可以使用分类问题中常用的工具——**混淆矩阵**来解决。\n",
    "\n",
    "对于二分类问题，混淆矩阵的形式如下图所示"
   ]
  },
  {
   "cell_type": "code",
   "execution_count": 10,
   "id": "930be1fb-a1a3-4bb3-91bb-2576a2aa1f8d",
   "metadata": {},
   "outputs": [
    {
     "data": {
      "image/png": "[encoded data removed]",
      "text/plain": [
       "<Figure size 432x288 with 1 Axes>"
      ]
     },
     "metadata": {},
     "output_type": "display_data"
    }
   ],
   "source": [
    "import mglearn\n",
    "mglearn.plots.plot_binary_confusion_matrix()"
   ]
  },
  {
   "cell_type": "markdown",
   "id": "a0905508-1762-434d-a05b-e373c99f8656",
   "metadata": {},
   "source": [
    "在分类问题中，negative通常指代“反类”，分类标签通常设置为0；positive通常指代“正类”，分类标签通常设置为1。在二分类混淆矩阵中，横行表示样本实际的属性，纵列表示样本被模型预测的属性，如果两者不一致(FN/FP)就意味着预测错误，如果两者一致则意味着预测正确(TN/TP)。   \n",
    "||predicted negative|predicted positive|  \n",
    "|:-:|:-:|:-:|  \n",
    "|**negative**|TN(True Negative) <br>原来是反例被划分到反例的样本|FP(False Positive)  <br>原来是反例被划分到正例的样本|  \n",
    "|**positive**|FN(False Negative)  <br>原来是正例被划分到反例的样本|TP(True Negative)  <br>原来是正例被划分到正例的样本|  "
   ]
  },
  {
   "cell_type": "markdown",
   "id": "f0a748dd-063e-4605-a821-6c23e96f3285",
   "metadata": {},
   "source": [
    "在阈值0.5的前提下，logit模型的预测结果如下"
   ]
  },
  {
   "cell_type": "code",
   "execution_count": 11,
   "id": "4132d4ff-2e2d-4b52-84cb-501b08328277",
   "metadata": {},
   "outputs": [
    {
     "data": {
      "text/plain": [
       "array([[647,   1],\n",
       "       [ 35,   1]], dtype=int64)"
      ]
     },
     "execution_count": 11,
     "metadata": {},
     "output_type": "execute_result"
    }
   ],
   "source": [
    "from sklearn.metrics import confusion_matrix\n",
    "\n",
    "confusion_matrix(ST.ST, logit_res) # 注意：第一个值输入的是真实的标签集，第二个值输入的是预测的标签集"
   ]
  },
  {
   "cell_type": "markdown",
   "id": "37502e36-5845-415e-9324-e56a45dc397b",
   "metadata": {},
   "source": [
    "**· 多分类指标——分类精度真的普适吗？**\n",
    "\n",
    "我们紧接上面的混淆矩阵讨论有关分类指标的问题。\n",
    "\n",
    "我们先计算一波在阈值$\\alpha=0.5$下，logit模型的分类精度（也就是分类正确率），分类精度的公式为\n",
    "$$\n",
    "Accuracy=\\frac{TP+TN}{TP+TN+FP+FN}\n",
    "$$"
   ]
  },
  {
   "cell_type": "code",
   "execution_count": 12,
   "id": "ecd3186a-c760-4156-897c-353e313fb033",
   "metadata": {},
   "outputs": [
    {
     "data": {
      "text/plain": [
       "array([[647,   1],\n",
       "       [ 35,   1]], dtype=int64)"
      ]
     },
     "execution_count": 12,
     "metadata": {},
     "output_type": "execute_result"
    }
   ],
   "source": [
    "logit_confusion_matrix = confusion_matrix(ST.ST, logit_res)\n",
    "logit_confusion_matrix"
   ]
  },
  {
   "cell_type": "code",
   "execution_count": 13,
   "id": "4ddb5049-4b4b-4652-a6c3-1009aa73f9d8",
   "metadata": {},
   "outputs": [
    {
     "name": "stdout",
     "output_type": "stream",
     "text": [
      "0.9473684210526315\n"
     ]
    }
   ],
   "source": [
    "# 计算logit模型分类精确度\n",
    "logit_accuracy = np.diagonal(logit_confusion_matrix).sum() / np.sum(logit_confusion_matrix)\n",
    "print(logit_accuracy)"
   ]
  },
  {
   "cell_type": "markdown",
   "id": "b648d2ec-cfbd-4547-b1b0-626484460879",
   "metadata": {},
   "source": [
    "看上去分类精度接近95%，是一个非常不错的表现。但是我们稍加观察就会发现问题没有那么简单：在648个ST=0样本中，有647个样本被正确分类，只有1个样本被错误分类；但是在36个ST=1样本中，高达35个样本被错误分类，这说明logit模型在这个阈值下完全丧失了对1样本的预测能力。这是模型非常糟糕的表现，然而如果我们只关注到了约95%的高分类精度，我们会错误地认为模型表现得很好。\n",
    "\n",
    "这种样本种类分布极其不均衡的现象被称为“样本不均衡”，对于这种样本的模型分类预测效果判断，仅靠分类精度是远远不够的，我们需要引入以下几个指标来解决这一问题——精确率、召回率、F分数。\n",
    "\n",
    "**精确率(Precision)** 衡量的是所有被预测为正类的样本中，预测正确的比例，公式为：\n",
    "$$\n",
    "Precision=\\frac{TP}{TP+FP}\n",
    "$$"
   ]
  },
  {
   "cell_type": "code",
   "execution_count": 14,
   "id": "40c89b72-3d64-4263-a751-0d316c3835d0",
   "metadata": {},
   "outputs": [
    {
     "name": "stdout",
     "output_type": "stream",
     "text": [
      "精确率：0.5\n"
     ]
    }
   ],
   "source": [
    "# 以ST=1为正例\n",
    "logit_precision = logit_confusion_matrix[1, 1] / np.sum(logit_confusion_matrix[:, 1])\n",
    "print(f\"精确率：{logit_precision}\")"
   ]
  },
  {
   "cell_type": "markdown",
   "id": "caf11455-3cc5-4d1c-93cd-556e7224e08c",
   "metadata": {},
   "source": [
    "**召回率(Recall)** 衡量的是所有正类样本中，预测正确的比例，公式为：\n",
    "$$\n",
    "\\mathrm{Re}call=\\frac{TP}{TP+FN}\n",
    "$$"
   ]
  },
  {
   "cell_type": "code",
   "execution_count": 15,
   "id": "9c9ab61e-7d86-441a-9b7c-4b57b8f6f8e3",
   "metadata": {},
   "outputs": [
    {
     "name": "stdout",
     "output_type": "stream",
     "text": [
      "0.027777777777777776\n"
     ]
    }
   ],
   "source": [
    "# 以st=1为正类，计算logits模型召回率\n",
    "logit_recall = logit_confusion_matrix[1, 1] / np.sum(logit_confusion_matrix[1, :])\n",
    "print(logit_recall)"
   ]
  },
  {
   "cell_type": "markdown",
   "id": "2cc56526-1d7e-47ed-bac1-ea3946b88b07",
   "metadata": {},
   "source": [
    "这两个指标侧重点各有不同。精确率衡量的就是有没有预测对，召回率衡量的就是有没有预测全。"
   ]
  },
  {
   "cell_type": "markdown",
   "id": "113878ac-ca7f-4ceb-9a3d-5d16efc9cf36",
   "metadata": {},
   "source": [
    "**F分数(F-score)** 是精确率与召回率的调和平均，是两者的综合取舍，公式为：\n",
    "$$\n",
    "F-score=2\\cdot \\frac{precision\\cdot recall}{precision+recall}\n",
    "$$"
   ]
  },
  {
   "cell_type": "code",
   "execution_count": 16,
   "id": "fd1eafb6-9ee9-40a8-87c5-d1cd26f9f98a",
   "metadata": {},
   "outputs": [
    {
     "name": "stdout",
     "output_type": "stream",
     "text": [
      "f-socre:0.05263157894736842\n"
     ]
    }
   ],
   "source": [
    "# 以st=1为正类，计算logitsF-score\n",
    "logit_f_score = 2 * logit_precision * logit_recall / (logit_precision + logit_recall)\n",
    "print(f\"f-socre:{logit_f_score}\")"
   ]
  },
  {
   "cell_type": "markdown",
   "id": "283561c9-daff-440a-8006-ddcbfb4086ba",
   "metadata": {},
   "source": [
    "事实上，我们还可以使用一个输出以上所有指标的函数。"
   ]
  },
  {
   "cell_type": "code",
   "execution_count": 17,
   "id": "913fb90a-657e-46f1-a486-6fac2fb3e133",
   "metadata": {},
   "outputs": [
    {
     "name": "stdout",
     "output_type": "stream",
     "text": [
      "              precision    recall  f1-score   support\n",
      "\n",
      "           0       0.95      1.00      0.97       648\n",
      "           1       0.50      0.03      0.05        36\n",
      "\n",
      "    accuracy                           0.95       684\n",
      "   macro avg       0.72      0.51      0.51       684\n",
      "weighted avg       0.93      0.95      0.92       684\n",
      "\n"
     ]
    }
   ],
   "source": [
    "from sklearn.metrics import classification_report\n",
    "\n",
    "print(classification_report(ST.ST, logit_res)) # 第一个参数是真实标签，第二个参数是预测标签"
   ]
  },
  {
   "cell_type": "markdown",
   "id": "e2ab2075-a7f7-4ce5-a236-201e5e4ac191",
   "metadata": {},
   "source": [
    "这个函数会输出以0为正类、以1为正类的精确率、召回率、f分数（实际上这根据我们传入的标签集内的标签来定）。第一行就是以ST=0为正类的三种指标，第二行就是以ST=1为正类的三种指标，这也正是我们前面手动计算的三个指标。"
   ]
  },
  {
   "cell_type": "markdown",
   "id": "1035a653-fcd0-47f3-8517-ae36664b1e49",
   "metadata": {},
   "source": [
    "#### 2.4.2. 对抗不平衡数据集——改变阈值"
   ]
  },
  {
   "cell_type": "markdown",
   "id": "e18c8fec-e234-4683-8141-6b2009800e7d",
   "metadata": {},
   "source": [
    "我们在前面看到了在阈值$\\alpha=0.5$下，logit模型对ST=1的小样本的分类非常糟糕，这是为什么呢？\n",
    "\n",
    "事实上，不平衡的数据集会导致模型的训练产生偏好性，由于ST=0的样本远远多于ST=1的样本，模型会更多地学习到ST=0的样本特征，而对ST=1的样本特征学习不足，于是对于一个未知样本，模型会更倾向于将它预测成大样本的类别。\n",
    "\n",
    "在数学层面上，由于我们的概率$p$本质上是$P(y=1 \\mid x)$，但是$y=0$样本却占了大多数，于是各样本预测出来的概率$p$将普遍偏小（小于0.5），我们可以观察一下。"
   ]
  },
  {
   "cell_type": "code",
   "execution_count": 18,
   "id": "d18fd7ef-f6c8-4ad9-aa60-d0cf65c72027",
   "metadata": {},
   "outputs": [
    {
     "name": "stdout",
     "output_type": "stream",
     "text": [
      "[False False False False  True False False False False False  True False\n",
      " False False False False False False False False False False False False\n",
      " False False False False False False False False False False False False\n",
      " False False False False False False False False False False False False\n",
      " False False]\n"
     ]
    }
   ],
   "source": [
    "# 观察前50个样本的预测p\n",
    "print(logit_pred[:50] > 0.5)"
   ]
  },
  {
   "cell_type": "markdown",
   "id": "c5092f90-3d06-4101-bb68-949ccf16b8a5",
   "metadata": {},
   "source": [
    "如何解决这一问题呢？既然样本的预测p普遍偏小，我们可以降低“门槛” 𝛼 ，让其等于一个很小的数，这样子又可以有更多的样本被预测到ST=1的行列当中了"
   ]
  },
  {
   "cell_type": "code",
   "execution_count": 19,
   "id": "13ef29a0-eaa9-435b-8832-a5a562abd14c",
   "metadata": {},
   "outputs": [
    {
     "name": "stdout",
     "output_type": "stream",
     "text": [
      "[[463 185]\n",
      " [ 11  25]]\n",
      "              precision    recall  f1-score   support\n",
      "\n",
      "           0       0.98      0.71      0.83       648\n",
      "           1       0.12      0.69      0.20        36\n",
      "\n",
      "    accuracy                           0.71       684\n",
      "   macro avg       0.55      0.70      0.51       684\n",
      "weighted avg       0.93      0.71      0.79       684\n",
      "\n"
     ]
    }
   ],
   "source": [
    "# 使用更小的阈值\n",
    "logit_res_less = np.where(logit_pred > 0.0526, 1, 0)\n",
    "\n",
    "# 混淆矩阵\n",
    "print(confusion_matrix(ST.ST, logit_res_less))\n",
    "\n",
    "# 计算相关指标\n",
    "print(classification_report(ST.ST, logit_res_less))"
   ]
  },
  {
   "cell_type": "markdown",
   "id": "006e625c-788e-4954-8bf4-5d8925f25974",
   "metadata": {},
   "source": [
    "可以发现，在调整了阈值后，以ST=1为正类的召回率显著提升，更多的正类样本被正确划分了。\n",
    "\n",
    "但与此同时，以ST=1为正类的精确率却下降了很多，假反例大大增加，这就是调整阈值所付出的代价。事实上，调整阈值是一把“双刃剑”，对于一个既定的模型，改变阈值并不会改变模型的预测性能，它只能改变样本预测的分布，使分布更符合我们实际的需求。如果需要改进预测效果，要么换一种精度更高的模型，要么进行调参处理，我们本节课不对这些内容进行讨论，感兴趣的同学可以关注我们后续有关机器学习的课程。"
   ]
  },
  {
   "cell_type": "markdown",
   "id": "7b1cad42-ca33-4c3f-9137-fa23b70acd40",
   "metadata": {},
   "source": [
    "## 3. 无序多分类问题  \n",
    "介绍完了二分类Logistic回归，我们现在简单地学习一下无序多分类Logistic回归。有关二分类Logistic回归的研究起步早，理论与应用都相当成熟。相比之下，多分类Logistic回归的研究就相对滞后了，statsmodels包中似乎也找不到多分类Logistic回归的函数，因此本章节我们将使用机器学习包sklearn中的LogisticRegression函数。sklearn也具有做Logistic回归的功能，但它注重预测结果输出，而在统计推断结果的可视化上，sklearn做的远远不如statsmodels。因此本章节我们不介绍多分类Logistic回归的统计推断，只学习如何预测。"
   ]
  },
  {
   "cell_type": "markdown",
   "id": "1ef43489-2434-42cf-8da9-d245f5beefc7",
   "metadata": {},
   "source": [
    "### 3.1. 多分类Logistic回归的两种算法\n",
    "\n",
    "K类别的多分类Logistic回归主要有两种：一种是修改概率映射函数，将其中一个类作为基类，通过修改过后的映射函数获得k-1个对数胜率；另一种是“一对其余”(one-vs-rest)，对每个类别都建立一个二分类Logistic回归，将本类别的样本定义为0，其余类别的样本定义为1，在所有类别的分类器中，概率$p$最高的类别就是实际判定的类别。\n",
    "\n",
    "这么说可能有点抽象，我们接着往下看。"
   ]
  },
  {
   "cell_type": "markdown",
   "id": "2b408858-a32f-4a82-8448-c9316b6d2ffc",
   "metadata": {
    "jp-MarkdownHeadingCollapsed": true,
    "tags": []
   },
   "source": [
    "#### 3.1.1. 算法1：修改概率映射函数  \n",
    "**· 原理介绍**\n",
    "\n",
    "我们回顾一下二分类Logistic回归的模型\n",
    "$$\n",
    "\\log \\left(\\frac{p(x)}{1-p(x)}\\right)=\\beta_{0}+\\beta_{1} x_{1}+\\cdots+\\beta_{k} x_{k}\n",
    "$$\n",
    "实际上我们可以将等式稍微变化一下\n",
    "$$\n",
    "\\log \\left( \\frac{p(y=1|x)}{p(y=0|x)} \\right) =\\beta _0+\\beta _1x_1+\\cdots +\\beta _kx_k\n",
    "$$\n",
    "它实际上比较的是1类和0类的概率。\n",
    "\n",
    "而在多分类问题上，类别不仅仅有0和1，怎么比较其他类别的概率呢？我们可以选取一个类别作为基类（在这里我们选择0类），像上述公式一样分别计算0类与剩余类别之间的对数概率之比\n",
    "$$\n",
    "g_m\\left( x \\right) =\\log \\left( \\frac{p(y=m|x)}{p(y=0|x)} \\right) =\\beta _{m0}+\\beta _{m1}x_1+\\cdots +\\beta _{mk}x_k\\text{，}m=1,…,M\n",
    "$$\n",
    "有M个类别，就会有M-1个函数，这些函数的实际意义是“目标类别$j$与基类$0$的对数胜率”。\n",
    "\n",
    "计算出了M-1个函数$g_m\\left( x \\right)$后，我们便可以使用一个变式的Logit映射函数计算每个类别的条件概率$P(y=m\\mid \\mathbf{x})$\n",
    "$$\n",
    "P(y=m\\mid \\mathbf{x})=\\frac{e^{g_m(\\mathbf{x})}}{1+\\sum_{m=1}^{M-1}{e^{g_m(\\mathbf{x})}}}\n",
    "$$"
   ]
  },
  {
   "cell_type": "markdown",
   "id": "7288f6e3-6166-4d7e-a59a-7f8e2036ee55",
   "metadata": {},
   "source": [
    "我们用一个含有三个类别、两个特征的玩具数据集来实操一波，来看看模型是如何处理多分类问题的。"
   ]
  },
  {
   "cell_type": "code",
   "execution_count": 20,
   "id": "3da9638e-d904-4bf7-8965-4499681974fe",
   "metadata": {},
   "outputs": [
    {
     "name": "stdout",
     "output_type": "stream",
     "text": [
      "前5个样本的X特征 [[-7.72642091 -8.39495682]\n",
      " [ 5.45339605  0.74230537]\n",
      " [-2.97867201  9.55684617]\n",
      " [ 6.04267315  0.57131862]\n",
      " [-6.52183983 -6.31932507]]\n",
      "前5个样本的y标签 [2 1 0 1 2]\n"
     ]
    }
   ],
   "source": [
    "# 加载数据集\n",
    "from sklearn.datasets import make_blobs\n",
    "X, y=make_blobs(random_state=42, n_features=2) \n",
    "print('前5个样本的X特征',X[:5])\n",
    "print('前5个样本的y标签',y[:5])"
   ]
  },
  {
   "cell_type": "code",
   "execution_count": 21,
   "id": "88b11a72-164c-4418-977a-b90e1f0f8aea",
   "metadata": {},
   "outputs": [
    {
     "data": {
      "image/png": "[encoded data removed]",
      "text/plain": [
       "<Figure size 432x288 with 1 Axes>"
      ]
     },
     "metadata": {},
     "output_type": "display_data"
    }
   ],
   "source": [
    "# 利用散点图对数据集进行可视化\n",
    "mglearn.discrete_scatter(X[:,0],X[:,1],y)\n",
    "plt.xlabel('feature 0')\n",
    "plt.ylabel('feature 1')\n",
    "plt.legend(['class 0','class 1']);"
   ]
  },
  {
   "cell_type": "markdown",
   "id": "fec96f5b-e24a-417a-aff0-171ee099d2ac",
   "metadata": {},
   "source": [
    "训练一个多分类Logistic回归模型，对上述样本中的0和1进行分类。"
   ]
  },
  {
   "cell_type": "code",
   "execution_count": 22,
   "id": "77bacd06-85b6-4f08-8ee2-f7f3ab79c759",
   "metadata": {},
   "outputs": [
    {
     "data": {
      "text/html": [
       "<div>\n",
       "<style scoped>\n",
       "    .dataframe tbody tr th:only-of-type {\n",
       "        vertical-align: middle;\n",
       "    }\n",
       "\n",
       "    .dataframe tbody tr th {\n",
       "        vertical-align: top;\n",
       "    }\n",
       "\n",
       "    .dataframe thead th {\n",
       "        text-align: right;\n",
       "    }\n",
       "</style>\n",
       "<table border=\"1\" class=\"dataframe\">\n",
       "  <thead>\n",
       "    <tr style=\"text-align: right;\">\n",
       "      <th></th>\n",
       "      <th>x0</th>\n",
       "      <th>x1</th>\n",
       "      <th>y</th>\n",
       "    </tr>\n",
       "  </thead>\n",
       "  <tbody>\n",
       "    <tr>\n",
       "      <th>0</th>\n",
       "      <td>-7.726421</td>\n",
       "      <td>-8.394957</td>\n",
       "      <td>2</td>\n",
       "    </tr>\n",
       "    <tr>\n",
       "      <th>1</th>\n",
       "      <td>5.453396</td>\n",
       "      <td>0.742305</td>\n",
       "      <td>1</td>\n",
       "    </tr>\n",
       "    <tr>\n",
       "      <th>2</th>\n",
       "      <td>-2.978672</td>\n",
       "      <td>9.556846</td>\n",
       "      <td>0</td>\n",
       "    </tr>\n",
       "    <tr>\n",
       "      <th>3</th>\n",
       "      <td>6.042673</td>\n",
       "      <td>0.571319</td>\n",
       "      <td>1</td>\n",
       "    </tr>\n",
       "    <tr>\n",
       "      <th>4</th>\n",
       "      <td>-6.521840</td>\n",
       "      <td>-6.319325</td>\n",
       "      <td>2</td>\n",
       "    </tr>\n",
       "  </tbody>\n",
       "</table>\n",
       "</div>"
      ],
      "text/plain": [
       "         x0        x1  y\n",
       "0 -7.726421 -8.394957  2\n",
       "1  5.453396  0.742305  1\n",
       "2 -2.978672  9.556846  0\n",
       "3  6.042673  0.571319  1\n",
       "4 -6.521840 -6.319325  2"
      ]
     },
     "execution_count": 22,
     "metadata": {},
     "output_type": "execute_result"
    }
   ],
   "source": [
    "data = pd.DataFrame(np.hstack((X, y.reshape((-1, 1)))), columns=['x0', 'x1', 'y'])\n",
    "data['y'] = data['y'].astype(int)\n",
    "data.head()"
   ]
  },
  {
   "cell_type": "code",
   "execution_count": 23,
   "id": "5de7446a-5338-45f6-a674-574457a535ae",
   "metadata": {},
   "outputs": [
    {
     "ename": "PerfectSeparationError",
     "evalue": "Perfect separation detected, results not available",
     "output_type": "error",
     "traceback": [
      "\u001b[1;31m---------------------------------------------------------------------------\u001b[0m",
      "\u001b[1;31mPerfectSeparationError\u001b[0m                    Traceback (most recent call last)",
      "\u001b[1;32m<ipython-input-23-7b79911423da>\u001b[0m in \u001b[0;36m<module>\u001b[1;34m\u001b[0m\n\u001b[0;32m      3\u001b[0m     \u001b[0mdata_i\u001b[0m \u001b[1;33m=\u001b[0m \u001b[0mdata\u001b[0m\u001b[1;33m.\u001b[0m\u001b[0mquery\u001b[0m\u001b[1;33m(\u001b[0m\u001b[1;34m'y == 0 or y == @i'\u001b[0m\u001b[1;33m)\u001b[0m\u001b[1;33m\u001b[0m\u001b[1;33m\u001b[0m\u001b[0m\n\u001b[0;32m      4\u001b[0m     \u001b[0mdata_i\u001b[0m\u001b[1;33m.\u001b[0m\u001b[0mindex\u001b[0m \u001b[1;33m=\u001b[0m \u001b[0mrange\u001b[0m\u001b[1;33m(\u001b[0m\u001b[0mlen\u001b[0m\u001b[1;33m(\u001b[0m\u001b[0mdata_i\u001b[0m\u001b[1;33m)\u001b[0m\u001b[1;33m)\u001b[0m\u001b[1;33m\u001b[0m\u001b[1;33m\u001b[0m\u001b[0m\n\u001b[1;32m----> 5\u001b[1;33m     \u001b[0mexec\u001b[0m\u001b[1;33m(\u001b[0m\u001b[1;34mf'logit_modified{i} = sm.formula.logit(\"y~x0+x1\", data=data_i).fit()'\u001b[0m\u001b[1;33m)\u001b[0m\u001b[1;33m\u001b[0m\u001b[1;33m\u001b[0m\u001b[0m\n\u001b[0m\u001b[0;32m      6\u001b[0m     \u001b[0mprint\u001b[0m\u001b[1;33m(\u001b[0m\u001b[0mlogit_modified1\u001b[0m\u001b[1;33m.\u001b[0m\u001b[0msummary\u001b[0m\u001b[1;33m(\u001b[0m\u001b[1;33m)\u001b[0m\u001b[1;33m)\u001b[0m\u001b[1;33m\u001b[0m\u001b[1;33m\u001b[0m\u001b[0m\n",
      "\u001b[1;32m<string>\u001b[0m in \u001b[0;36m<module>\u001b[1;34m\u001b[0m\n",
      "\u001b[1;32md:\\softwares\\conda\\envs\\ml\\lib\\site-packages\\statsmodels\\discrete\\discrete_model.py\u001b[0m in \u001b[0;36mfit\u001b[1;34m(self, start_params, method, maxiter, full_output, disp, callback, **kwargs)\u001b[0m\n\u001b[0;32m   1987\u001b[0m                               \u001b[0mdisp\u001b[0m\u001b[1;33m=\u001b[0m\u001b[0mdisp\u001b[0m\u001b[1;33m,\u001b[0m\u001b[1;33m\u001b[0m\u001b[1;33m\u001b[0m\u001b[0m\n\u001b[0;32m   1988\u001b[0m                               \u001b[0mcallback\u001b[0m\u001b[1;33m=\u001b[0m\u001b[0mcallback\u001b[0m\u001b[1;33m,\u001b[0m\u001b[1;33m\u001b[0m\u001b[1;33m\u001b[0m\u001b[0m\n\u001b[1;32m-> 1989\u001b[1;33m                               **kwargs)\n\u001b[0m\u001b[0;32m   1990\u001b[0m \u001b[1;33m\u001b[0m\u001b[0m\n\u001b[0;32m   1991\u001b[0m         \u001b[0mdiscretefit\u001b[0m \u001b[1;33m=\u001b[0m \u001b[0mLogitResults\u001b[0m\u001b[1;33m(\u001b[0m\u001b[0mself\u001b[0m\u001b[1;33m,\u001b[0m \u001b[0mbnryfit\u001b[0m\u001b[1;33m)\u001b[0m\u001b[1;33m\u001b[0m\u001b[1;33m\u001b[0m\u001b[0m\n",
      "\u001b[1;32md:\\softwares\\conda\\envs\\ml\\lib\\site-packages\\statsmodels\\discrete\\discrete_model.py\u001b[0m in \u001b[0;36mfit\u001b[1;34m(self, start_params, method, maxiter, full_output, disp, callback, **kwargs)\u001b[0m\n\u001b[0;32m    234\u001b[0m                              \u001b[0mdisp\u001b[0m\u001b[1;33m=\u001b[0m\u001b[0mdisp\u001b[0m\u001b[1;33m,\u001b[0m\u001b[1;33m\u001b[0m\u001b[1;33m\u001b[0m\u001b[0m\n\u001b[0;32m    235\u001b[0m                              \u001b[0mcallback\u001b[0m\u001b[1;33m=\u001b[0m\u001b[0mcallback\u001b[0m\u001b[1;33m,\u001b[0m\u001b[1;33m\u001b[0m\u001b[1;33m\u001b[0m\u001b[0m\n\u001b[1;32m--> 236\u001b[1;33m                              **kwargs)\n\u001b[0m\u001b[0;32m    237\u001b[0m \u001b[1;33m\u001b[0m\u001b[0m\n\u001b[0;32m    238\u001b[0m         \u001b[1;32mreturn\u001b[0m \u001b[0mmlefit\u001b[0m  \u001b[1;31m# It is up to subclasses to wrap results\u001b[0m\u001b[1;33m\u001b[0m\u001b[1;33m\u001b[0m\u001b[0m\n",
      "\u001b[1;32md:\\softwares\\conda\\envs\\ml\\lib\\site-packages\\statsmodels\\base\\model.py\u001b[0m in \u001b[0;36mfit\u001b[1;34m(self, start_params, method, maxiter, full_output, disp, fargs, callback, retall, skip_hessian, **kwargs)\u001b[0m\n\u001b[0;32m    569\u001b[0m                                                        \u001b[0mcallback\u001b[0m\u001b[1;33m=\u001b[0m\u001b[0mcallback\u001b[0m\u001b[1;33m,\u001b[0m\u001b[1;33m\u001b[0m\u001b[1;33m\u001b[0m\u001b[0m\n\u001b[0;32m    570\u001b[0m                                                        \u001b[0mretall\u001b[0m\u001b[1;33m=\u001b[0m\u001b[0mretall\u001b[0m\u001b[1;33m,\u001b[0m\u001b[1;33m\u001b[0m\u001b[1;33m\u001b[0m\u001b[0m\n\u001b[1;32m--> 571\u001b[1;33m                                                        full_output=full_output)\n\u001b[0m\u001b[0;32m    572\u001b[0m         \u001b[1;31m# Restore cov_type, cov_kwds and use_t\u001b[0m\u001b[1;33m\u001b[0m\u001b[1;33m\u001b[0m\u001b[1;33m\u001b[0m\u001b[0m\n\u001b[0;32m    573\u001b[0m         \u001b[0moptim_settings\u001b[0m\u001b[1;33m.\u001b[0m\u001b[0mupdate\u001b[0m\u001b[1;33m(\u001b[0m\u001b[0mkwds\u001b[0m\u001b[1;33m)\u001b[0m\u001b[1;33m\u001b[0m\u001b[1;33m\u001b[0m\u001b[0m\n",
      "\u001b[1;32md:\\softwares\\conda\\envs\\ml\\lib\\site-packages\\statsmodels\\base\\optimizer.py\u001b[0m in \u001b[0;36m_fit\u001b[1;34m(self, objective, gradient, start_params, fargs, kwargs, hessian, method, maxiter, full_output, disp, callback, retall)\u001b[0m\n\u001b[0;32m    242\u001b[0m                              \u001b[0mdisp\u001b[0m\u001b[1;33m=\u001b[0m\u001b[0mdisp\u001b[0m\u001b[1;33m,\u001b[0m \u001b[0mmaxiter\u001b[0m\u001b[1;33m=\u001b[0m\u001b[0mmaxiter\u001b[0m\u001b[1;33m,\u001b[0m \u001b[0mcallback\u001b[0m\u001b[1;33m=\u001b[0m\u001b[0mcallback\u001b[0m\u001b[1;33m,\u001b[0m\u001b[1;33m\u001b[0m\u001b[1;33m\u001b[0m\u001b[0m\n\u001b[0;32m    243\u001b[0m                              \u001b[0mretall\u001b[0m\u001b[1;33m=\u001b[0m\u001b[0mretall\u001b[0m\u001b[1;33m,\u001b[0m \u001b[0mfull_output\u001b[0m\u001b[1;33m=\u001b[0m\u001b[0mfull_output\u001b[0m\u001b[1;33m,\u001b[0m\u001b[1;33m\u001b[0m\u001b[1;33m\u001b[0m\u001b[0m\n\u001b[1;32m--> 244\u001b[1;33m                              hess=hessian)\n\u001b[0m\u001b[0;32m    245\u001b[0m \u001b[1;33m\u001b[0m\u001b[0m\n\u001b[0;32m    246\u001b[0m         optim_settings = {'optimizer': method, 'start_params': start_params,\n",
      "\u001b[1;32md:\\softwares\\conda\\envs\\ml\\lib\\site-packages\\statsmodels\\base\\optimizer.py\u001b[0m in \u001b[0;36m_fit_newton\u001b[1;34m(f, score, start_params, fargs, kwargs, disp, maxiter, callback, retall, full_output, hess, ridge_factor)\u001b[0m\n\u001b[0;32m    441\u001b[0m             \u001b[0mhistory\u001b[0m\u001b[1;33m.\u001b[0m\u001b[0mappend\u001b[0m\u001b[1;33m(\u001b[0m\u001b[0mnewparams\u001b[0m\u001b[1;33m)\u001b[0m\u001b[1;33m\u001b[0m\u001b[1;33m\u001b[0m\u001b[0m\n\u001b[0;32m    442\u001b[0m         \u001b[1;32mif\u001b[0m \u001b[0mcallback\u001b[0m \u001b[1;32mis\u001b[0m \u001b[1;32mnot\u001b[0m \u001b[1;32mNone\u001b[0m\u001b[1;33m:\u001b[0m\u001b[1;33m\u001b[0m\u001b[1;33m\u001b[0m\u001b[0m\n\u001b[1;32m--> 443\u001b[1;33m             \u001b[0mcallback\u001b[0m\u001b[1;33m(\u001b[0m\u001b[0mnewparams\u001b[0m\u001b[1;33m)\u001b[0m\u001b[1;33m\u001b[0m\u001b[1;33m\u001b[0m\u001b[0m\n\u001b[0m\u001b[0;32m    444\u001b[0m         \u001b[0miterations\u001b[0m \u001b[1;33m+=\u001b[0m \u001b[1;36m1\u001b[0m\u001b[1;33m\u001b[0m\u001b[1;33m\u001b[0m\u001b[0m\n\u001b[0;32m    445\u001b[0m     \u001b[0mfval\u001b[0m \u001b[1;33m=\u001b[0m \u001b[0mf\u001b[0m\u001b[1;33m(\u001b[0m\u001b[0mnewparams\u001b[0m\u001b[1;33m,\u001b[0m \u001b[1;33m*\u001b[0m\u001b[0mfargs\u001b[0m\u001b[1;33m)\u001b[0m  \u001b[1;31m# this is the negative likelihood\u001b[0m\u001b[1;33m\u001b[0m\u001b[1;33m\u001b[0m\u001b[0m\n",
      "\u001b[1;32md:\\softwares\\conda\\envs\\ml\\lib\\site-packages\\statsmodels\\discrete\\discrete_model.py\u001b[0m in \u001b[0;36m_check_perfect_pred\u001b[1;34m(self, params, *args)\u001b[0m\n\u001b[0;32m    212\u001b[0m                 np.allclose(fittedvalues - endog, 0)):\n\u001b[0;32m    213\u001b[0m             \u001b[0mmsg\u001b[0m \u001b[1;33m=\u001b[0m \u001b[1;34m\"Perfect separation detected, results not available\"\u001b[0m\u001b[1;33m\u001b[0m\u001b[1;33m\u001b[0m\u001b[0m\n\u001b[1;32m--> 214\u001b[1;33m             \u001b[1;32mraise\u001b[0m \u001b[0mPerfectSeparationError\u001b[0m\u001b[1;33m(\u001b[0m\u001b[0mmsg\u001b[0m\u001b[1;33m)\u001b[0m\u001b[1;33m\u001b[0m\u001b[1;33m\u001b[0m\u001b[0m\n\u001b[0m\u001b[0;32m    215\u001b[0m \u001b[1;33m\u001b[0m\u001b[0m\n\u001b[0;32m    216\u001b[0m     \u001b[1;33m@\u001b[0m\u001b[0mAppender\u001b[0m\u001b[1;33m(\u001b[0m\u001b[0mbase\u001b[0m\u001b[1;33m.\u001b[0m\u001b[0mLikelihoodModel\u001b[0m\u001b[1;33m.\u001b[0m\u001b[0mfit\u001b[0m\u001b[1;33m.\u001b[0m\u001b[0m__doc__\u001b[0m\u001b[1;33m)\u001b[0m\u001b[1;33m\u001b[0m\u001b[1;33m\u001b[0m\u001b[0m\n",
      "\u001b[1;31mPerfectSeparationError\u001b[0m: Perfect separation detected, results not available"
     ]
    }
   ],
   "source": [
    "n_classes = 4\n",
    "for i in range(1, n_classes):\n",
    "    data_i = data.query('y == 0 or y == @i')\n",
    "    data_i.index = range(len(data_i))\n",
    "    exec(f'logit_modified{i} = sm.formula.logit(\"y~x0+x1\", data=data_i).fit()')\n",
    "    print(logit_modified1.summary())"
   ]
  },
  {
   "cell_type": "markdown",
   "id": "13a4bf70-4f52-4827-8b24-9d5a10154640",
   "metadata": {},
   "source": [
    "此路不同，出现这个报错的原因，网络上大概总结为以下几点：  \n",
    "- 没有加截距项  \n",
    "- 自变量与因变量完全相关  \n",
    "- 自变量之间存在相关性  \n",
    "\n",
    "但是该加的截距项加了，相关性也检验了，还是不能解决，个人感觉应该是数据集的问题。这里使用《机器学习实战》一书中的OneVsOne策略，这种策略并不选取基准，而是对N个分类两两组合成$N\\times (N - 1) / 2$个模型，分别获得对应分类的预测概率，最后取$N$个概率总和的最大值对应分类作为分类依据。"
   ]
  },
  {
   "cell_type": "code",
   "execution_count": 24,
   "id": "dde4dcf4-fe97-4580-833a-ba7711b2bb1d",
   "metadata": {},
   "outputs": [
    {
     "name": "stdout",
     "output_type": "stream",
     "text": [
      "3\n"
     ]
    }
   ],
   "source": [
    "from sklearn.linear_model import LogisticRegression\n",
    "from sklearn.multiclass import OneVsOneClassifier\n",
    "ovo_clf = OneVsOneClassifier(LogisticRegression()).fit(X, y)\n",
    "# 不同于statsmodels,在sklearn中我们需要在接口fit()中填入训练模型的数据，X为自变量数据，y为因变量数据\n",
    "\n",
    "# 我们使用一对一策略\n",
    "print(len(ovo_clf.estimators_))"
   ]
  },
  {
   "cell_type": "markdown",
   "id": "90fbfcde-87a1-4426-9e7b-14d75a6237d2",
   "metadata": {},
   "source": [
    "因为每个分类器都是二分类，我们需要构造一个slices，用来对应当前estimator进行的分类任务（通过OneVsOneClassifier源码学习得到）"
   ]
  },
  {
   "cell_type": "code",
   "execution_count": 25,
   "id": "79968507-4416-4eba-b6bd-ec667adeae30",
   "metadata": {},
   "outputs": [
    {
     "name": "stdout",
     "output_type": "stream",
     "text": [
      "[[0, 1], [0, 2], [1, 2]]\n"
     ]
    }
   ],
   "source": [
    "slices = [[i, j] for i in range(ovo_clf.n_classes_) for j in range(i + 1, ovo_clf.n_classes_)]\n",
    "print(slices)"
   ]
  },
  {
   "cell_type": "code",
   "execution_count": 26,
   "id": "ee32f38a-33db-40a9-aaf9-6de5123d9c7c",
   "metadata": {},
   "outputs": [],
   "source": [
    "x = np.array([[2.5, 7.5], [-7.5, -7.5]])"
   ]
  },
  {
   "cell_type": "code",
   "execution_count": 27,
   "id": "aa1d71c5-69ff-4beb-b0f7-2bbff238b4f2",
   "metadata": {},
   "outputs": [
    {
     "name": "stdout",
     "output_type": "stream",
     "text": [
      "[0 2]\n"
     ]
    }
   ],
   "source": [
    "probs = np.zeros(shape=(len(x), ovo_clf.n_classes_))\n",
    "for i, (slice_, estimator) in enumerate(zip(slices, ovo_clf.estimators_)):\n",
    "    prob = estimator.predict_proba(x)\n",
    "    probs[:, slice_] += prob.squeeze()\n",
    "class_ = np.argmax(probs, axis=1)\n",
    "print(class_)"
   ]
  },
  {
   "cell_type": "code",
   "execution_count": 28,
   "id": "d069ddad-f9af-446c-b1b6-f176108c6bc1",
   "metadata": {},
   "outputs": [
    {
     "name": "stdout",
     "output_type": "stream",
     "text": [
      "[0 2]\n"
     ]
    }
   ],
   "source": [
    "# 当然也可以直接使用predict函数\n",
    "print(ovo_clf.predict(x))"
   ]
  },
  {
   "cell_type": "markdown",
   "id": "63928670-3441-4451-89a3-dd862cb08da7",
   "metadata": {},
   "source": [
    "#### 3.1.2. 算法2：一对其他\n",
    "许多线性分类模型只适用于二分类问题，它们不能像Logistic回归一样有多分类的推广。于是，将二分类算法推广至多分类算法的一种常见方法就是“一对其余”。这种方法的思想非常简单，就是对每个类别都学习一个二分类模型，将这个类别与所有其余类别尽量分开，这样会生成与类别个数M相同个数的分类器，每个分类器都会输出一个概率，概率最高者“胜出”，并将这个类别的标签返回作为预测结果。\n",
    "\n",
    "sklearn中的LogisticRegression的多分类形式就是采用了这样的算法。我们用一个含有三个类别、两个特征的玩具数据集来实操一波，来看看模型是如何处理多分类问题的。"
   ]
  },
  {
   "cell_type": "markdown",
   "id": "b2f17aa4-659f-4b38-b01b-af160b0d20d5",
   "metadata": {},
   "source": [
    "同样使用前面的数据集，训练一个多分类Logistic回归模型，对上述样本进行分类。"
   ]
  },
  {
   "cell_type": "code",
   "execution_count": 29,
   "id": "7d32dece-ac46-493e-9803-e74281732ba4",
   "metadata": {},
   "outputs": [
    {
     "name": "stdout",
     "output_type": "stream",
     "text": [
      "[-1.63102014  1.85764971 -0.22662957]\n",
      "[[-0.38486163  0.62874226]\n",
      " [ 0.74106233 -0.17664082]\n",
      " [-0.3562007  -0.45210144]]\n"
     ]
    }
   ],
   "source": [
    "from sklearn.linear_model import LogisticRegression\n",
    "logis_multi=LogisticRegression(multi_class='multinomial').fit(X,y)\n",
    "# 不同于statsmodels,在sklearn中我们需要在接口fit()中填入训练模型的数据，X为自变量数据，y为因变量数据\n",
    "\n",
    "# 查看三个分类模型的模型参数\n",
    "## 截距\n",
    "print(logis_multi.intercept_)\n",
    "## 系数\n",
    "print(logis_multi.coef_)\n"
   ]
  },
  {
   "cell_type": "markdown",
   "id": "e8cecb86-dc06-4d2f-a8cf-302330341582",
   "metadata": {},
   "source": [
    "根据输出，我们可以给出三个“一对其余”的模型公式，如第一个模型的公式就是\n",
    "$$\n",
    "\\log \\left( \\frac{p\\left( y=0|x \\right)}{p\\left( y\\ne 0|x \\right)} \\right) =-1.63102014+-0.38486163x_1+0.62874226x_2\n",
    "$$\n",
    "我们将这三个分类器所代表的直线画到上图中"
   ]
  },
  {
   "cell_type": "code",
   "execution_count": 30,
   "id": "adf9b735-7865-4c97-9da5-a6d3bd10cdd1",
   "metadata": {},
   "outputs": [
    {
     "data": {
      "text/plain": [
       "<matplotlib.legend.Legend at 0x198515cbb08>"
      ]
     },
     "execution_count": 30,
     "metadata": {},
     "output_type": "execute_result"
    },
    {
     "data": {
      "image/png": "[encoded data removed]",
      "text/plain": [
       "<Figure size 432x288 with 1 Axes>"
      ]
     },
     "metadata": {},
     "output_type": "display_data"
    }
   ],
   "source": [
    "mglearn.discrete_scatter(X[:,0],X[:,1],y)\n",
    "line_x=np.linspace(-15,15)\n",
    "for coef,intercept,color in zip(logis_multi.coef_,logis_multi.intercept_,['b','r','g', 'y']):\n",
    "    plt.plot(line_x,-(line_x*coef[0]+intercept)/coef[1],c=color)\n",
    "plt.ylim(-10,15)\n",
    "plt.xlim(-10,8)\n",
    "plt.xlabel('feature 0')\n",
    "plt.ylabel('feature 1')\n",
    "plt.legend(['class 0','class 1','class 2','line class 0','line class 1','line class 2'],loc=(1.01,0.3))"
   ]
  },
  {
   "cell_type": "markdown",
   "id": "88ef2946-303f-4277-9b1f-e81dc60e3b04",
   "metadata": {},
   "source": [
    "我们可以看到，三条直线将样本空间分割成了不同的三角区域，那么哪些区域对应哪个类别呢？我们看看所有区域的预测结果："
   ]
  },
  {
   "cell_type": "code",
   "execution_count": 31,
   "id": "56649a8d-90ab-42af-8453-21dbb2e861b0",
   "metadata": {},
   "outputs": [
    {
     "data": {
      "image/png": "[encoded data removed]",
      "text/plain": [
       "<Figure size 432x288 with 1 Axes>"
      ]
     },
     "metadata": {},
     "output_type": "display_data"
    }
   ],
   "source": [
    "mglearn.plots.plot_2d_classification(logis_multi,X,fill=True,alpha=.7)\n",
    "mglearn.discrete_scatter(X[:,0],X[:,1],y)\n",
    "line_x=np.linspace(-15,15)\n",
    "for coef,intercept,color in zip(logis_multi.coef_,logis_multi.intercept_,['b','r','g']):\n",
    "    plt.plot(line_x,-(line_x*coef[0]+intercept)/coef[1],c=color)\n",
    "plt.ylim(-10,15)\n",
    "plt.xlim(-10,8)\n",
    "plt.xlabel('feature 0')\n",
    "plt.ylabel('feature 1')\n",
    "plt.legend(['class 0','class 1','class 2','line class 0','line class 1','line class 2'],loc=(1.01,0.3));"
   ]
  },
  {
   "cell_type": "markdown",
   "id": "8dbf0e8f-16dd-4850-8f7b-bc83c8a42259",
   "metadata": {},
   "source": [
    "对应颜色的区域就是对应类别在三个分类器下划分的判定区域，可以看到，所有样本都被精准地分类。以上展示是为了让大家直观地看到二分类算法是如何使用“一对其余”思想进行多分类的。当然，由于本例中只有两个特征（两个自变量），所以我们可以用二维图像展示分类器所代表的直线与划分的区域，当特征维数大于2时，再用二维平面图展示就比较困难了。不过大家只需要记住，对于某一个具体样本的判别，只需看M个分类器所计算出的概率 𝑝 最高者所代表的类别即可。"
   ]
  },
  {
   "cell_type": "markdown",
   "id": "70313e9b-1584-4b3e-96a8-317e97e6e618",
   "metadata": {},
   "source": [
    "## 4. 作业  \n",
    "### 4.1. 作业1——二分类：信贷风险评估  \n",
    "我们想知道银行贷款审批中是否存在种族歧视，这是一个非常典型的“推断”问题，于是可采用线性回归分类模型对该问题进行探究。本次习题使用数据loanapp.dta，所使用的变量解释如下：\n",
    "\n",
    "因变量：\n",
    "<br>\n",
    "· approve：贷款是否被批准（0为不批准、1为批准）\n",
    "\n",
    "自变量：\n",
    "<br>\n",
    "· white：种族哑变量（0为黑人，1为白人）\n",
    "<br>\n",
    "· obrat：债务占比\n",
    "\n",
    "由于数据集含有缺失值，我们先去除含有缺失值的样本（非习题）"
   ]
  },
  {
   "cell_type": "code",
   "execution_count": 32,
   "id": "def7b459-8b23-465e-b6c6-c95cfd51cb1e",
   "metadata": {},
   "outputs": [
    {
     "data": {
      "text/html": [
       "<div>\n",
       "<style scoped>\n",
       "    .dataframe tbody tr th:only-of-type {\n",
       "        vertical-align: middle;\n",
       "    }\n",
       "\n",
       "    .dataframe tbody tr th {\n",
       "        vertical-align: top;\n",
       "    }\n",
       "\n",
       "    .dataframe thead th {\n",
       "        text-align: right;\n",
       "    }\n",
       "</style>\n",
       "<table border=\"1\" class=\"dataframe\">\n",
       "  <thead>\n",
       "    <tr style=\"text-align: right;\">\n",
       "      <th></th>\n",
       "      <th>approve</th>\n",
       "      <th>white</th>\n",
       "      <th>hrat</th>\n",
       "      <th>obrat</th>\n",
       "      <th>loanprc</th>\n",
       "      <th>unem</th>\n",
       "      <th>male</th>\n",
       "      <th>married</th>\n",
       "      <th>dep</th>\n",
       "      <th>sch</th>\n",
       "      <th>cosign</th>\n",
       "      <th>chist</th>\n",
       "      <th>pubrec</th>\n",
       "      <th>mortlat1</th>\n",
       "      <th>mortlat2</th>\n",
       "      <th>vr</th>\n",
       "    </tr>\n",
       "  </thead>\n",
       "  <tbody>\n",
       "    <tr>\n",
       "      <th>1</th>\n",
       "      <td>0.0</td>\n",
       "      <td>1.0</td>\n",
       "      <td>22.540001</td>\n",
       "      <td>34.099998</td>\n",
       "      <td>0.800000</td>\n",
       "      <td>3.2</td>\n",
       "      <td>1.0</td>\n",
       "      <td>1.0</td>\n",
       "      <td>1.0</td>\n",
       "      <td>1.0</td>\n",
       "      <td>0.0</td>\n",
       "      <td>1.0</td>\n",
       "      <td>0.0</td>\n",
       "      <td>0.0</td>\n",
       "      <td>0.0</td>\n",
       "      <td>1.0</td>\n",
       "    </tr>\n",
       "    <tr>\n",
       "      <th>2</th>\n",
       "      <td>1.0</td>\n",
       "      <td>1.0</td>\n",
       "      <td>19.000000</td>\n",
       "      <td>26.000000</td>\n",
       "      <td>0.895105</td>\n",
       "      <td>3.9</td>\n",
       "      <td>1.0</td>\n",
       "      <td>0.0</td>\n",
       "      <td>0.0</td>\n",
       "      <td>1.0</td>\n",
       "      <td>0.0</td>\n",
       "      <td>1.0</td>\n",
       "      <td>0.0</td>\n",
       "      <td>0.0</td>\n",
       "      <td>0.0</td>\n",
       "      <td>0.0</td>\n",
       "    </tr>\n",
       "    <tr>\n",
       "      <th>3</th>\n",
       "      <td>1.0</td>\n",
       "      <td>1.0</td>\n",
       "      <td>24.000000</td>\n",
       "      <td>37.000000</td>\n",
       "      <td>0.600000</td>\n",
       "      <td>3.1</td>\n",
       "      <td>1.0</td>\n",
       "      <td>1.0</td>\n",
       "      <td>0.0</td>\n",
       "      <td>1.0</td>\n",
       "      <td>0.0</td>\n",
       "      <td>0.0</td>\n",
       "      <td>1.0</td>\n",
       "      <td>0.0</td>\n",
       "      <td>0.0</td>\n",
       "      <td>1.0</td>\n",
       "    </tr>\n",
       "    <tr>\n",
       "      <th>4</th>\n",
       "      <td>1.0</td>\n",
       "      <td>1.0</td>\n",
       "      <td>25.100000</td>\n",
       "      <td>32.099998</td>\n",
       "      <td>0.895522</td>\n",
       "      <td>4.3</td>\n",
       "      <td>1.0</td>\n",
       "      <td>1.0</td>\n",
       "      <td>0.0</td>\n",
       "      <td>0.0</td>\n",
       "      <td>0.0</td>\n",
       "      <td>1.0</td>\n",
       "      <td>0.0</td>\n",
       "      <td>0.0</td>\n",
       "      <td>0.0</td>\n",
       "      <td>0.0</td>\n",
       "    </tr>\n",
       "    <tr>\n",
       "      <th>5</th>\n",
       "      <td>1.0</td>\n",
       "      <td>1.0</td>\n",
       "      <td>21.000000</td>\n",
       "      <td>33.000000</td>\n",
       "      <td>0.804348</td>\n",
       "      <td>3.2</td>\n",
       "      <td>1.0</td>\n",
       "      <td>0.0</td>\n",
       "      <td>0.0</td>\n",
       "      <td>0.0</td>\n",
       "      <td>0.0</td>\n",
       "      <td>0.0</td>\n",
       "      <td>0.0</td>\n",
       "      <td>0.0</td>\n",
       "      <td>0.0</td>\n",
       "      <td>0.0</td>\n",
       "    </tr>\n",
       "    <tr>\n",
       "      <th>...</th>\n",
       "      <td>...</td>\n",
       "      <td>...</td>\n",
       "      <td>...</td>\n",
       "      <td>...</td>\n",
       "      <td>...</td>\n",
       "      <td>...</td>\n",
       "      <td>...</td>\n",
       "      <td>...</td>\n",
       "      <td>...</td>\n",
       "      <td>...</td>\n",
       "      <td>...</td>\n",
       "      <td>...</td>\n",
       "      <td>...</td>\n",
       "      <td>...</td>\n",
       "      <td>...</td>\n",
       "      <td>...</td>\n",
       "    </tr>\n",
       "    <tr>\n",
       "      <th>1984</th>\n",
       "      <td>1.0</td>\n",
       "      <td>1.0</td>\n",
       "      <td>20.299999</td>\n",
       "      <td>29.299999</td>\n",
       "      <td>0.897727</td>\n",
       "      <td>4.3</td>\n",
       "      <td>1.0</td>\n",
       "      <td>1.0</td>\n",
       "      <td>0.0</td>\n",
       "      <td>1.0</td>\n",
       "      <td>0.0</td>\n",
       "      <td>1.0</td>\n",
       "      <td>0.0</td>\n",
       "      <td>0.0</td>\n",
       "      <td>0.0</td>\n",
       "      <td>1.0</td>\n",
       "    </tr>\n",
       "    <tr>\n",
       "      <th>1985</th>\n",
       "      <td>1.0</td>\n",
       "      <td>1.0</td>\n",
       "      <td>8.000000</td>\n",
       "      <td>20.000000</td>\n",
       "      <td>0.111111</td>\n",
       "      <td>3.2</td>\n",
       "      <td>1.0</td>\n",
       "      <td>1.0</td>\n",
       "      <td>0.0</td>\n",
       "      <td>1.0</td>\n",
       "      <td>0.0</td>\n",
       "      <td>1.0</td>\n",
       "      <td>0.0</td>\n",
       "      <td>0.0</td>\n",
       "      <td>0.0</td>\n",
       "      <td>0.0</td>\n",
       "    </tr>\n",
       "    <tr>\n",
       "      <th>1986</th>\n",
       "      <td>1.0</td>\n",
       "      <td>1.0</td>\n",
       "      <td>56.099998</td>\n",
       "      <td>60.500000</td>\n",
       "      <td>1.000000</td>\n",
       "      <td>3.2</td>\n",
       "      <td>1.0</td>\n",
       "      <td>1.0</td>\n",
       "      <td>0.0</td>\n",
       "      <td>0.0</td>\n",
       "      <td>0.0</td>\n",
       "      <td>1.0</td>\n",
       "      <td>0.0</td>\n",
       "      <td>0.0</td>\n",
       "      <td>0.0</td>\n",
       "      <td>0.0</td>\n",
       "    </tr>\n",
       "    <tr>\n",
       "      <th>1987</th>\n",
       "      <td>1.0</td>\n",
       "      <td>1.0</td>\n",
       "      <td>16.000000</td>\n",
       "      <td>17.000000</td>\n",
       "      <td>0.455814</td>\n",
       "      <td>3.2</td>\n",
       "      <td>1.0</td>\n",
       "      <td>0.0</td>\n",
       "      <td>0.0</td>\n",
       "      <td>1.0</td>\n",
       "      <td>0.0</td>\n",
       "      <td>1.0</td>\n",
       "      <td>0.0</td>\n",
       "      <td>0.0</td>\n",
       "      <td>0.0</td>\n",
       "      <td>1.0</td>\n",
       "    </tr>\n",
       "    <tr>\n",
       "      <th>1988</th>\n",
       "      <td>0.0</td>\n",
       "      <td>0.0</td>\n",
       "      <td>31.000000</td>\n",
       "      <td>47.000000</td>\n",
       "      <td>0.898649</td>\n",
       "      <td>3.2</td>\n",
       "      <td>0.0</td>\n",
       "      <td>0.0</td>\n",
       "      <td>0.0</td>\n",
       "      <td>1.0</td>\n",
       "      <td>0.0</td>\n",
       "      <td>1.0</td>\n",
       "      <td>0.0</td>\n",
       "      <td>0.0</td>\n",
       "      <td>0.0</td>\n",
       "      <td>1.0</td>\n",
       "    </tr>\n",
       "  </tbody>\n",
       "</table>\n",
       "<p>1971 rows × 16 columns</p>\n",
       "</div>"
      ],
      "text/plain": [
       "      approve  white       hrat      obrat   loanprc  unem  male  married  \\\n",
       "1         0.0    1.0  22.540001  34.099998  0.800000   3.2   1.0      1.0   \n",
       "2         1.0    1.0  19.000000  26.000000  0.895105   3.9   1.0      0.0   \n",
       "3         1.0    1.0  24.000000  37.000000  0.600000   3.1   1.0      1.0   \n",
       "4         1.0    1.0  25.100000  32.099998  0.895522   4.3   1.0      1.0   \n",
       "5         1.0    1.0  21.000000  33.000000  0.804348   3.2   1.0      0.0   \n",
       "...       ...    ...        ...        ...       ...   ...   ...      ...   \n",
       "1984      1.0    1.0  20.299999  29.299999  0.897727   4.3   1.0      1.0   \n",
       "1985      1.0    1.0   8.000000  20.000000  0.111111   3.2   1.0      1.0   \n",
       "1986      1.0    1.0  56.099998  60.500000  1.000000   3.2   1.0      1.0   \n",
       "1987      1.0    1.0  16.000000  17.000000  0.455814   3.2   1.0      0.0   \n",
       "1988      0.0    0.0  31.000000  47.000000  0.898649   3.2   0.0      0.0   \n",
       "\n",
       "      dep  sch  cosign  chist  pubrec  mortlat1  mortlat2   vr  \n",
       "1     1.0  1.0     0.0    1.0     0.0       0.0       0.0  1.0  \n",
       "2     0.0  1.0     0.0    1.0     0.0       0.0       0.0  0.0  \n",
       "3     0.0  1.0     0.0    0.0     1.0       0.0       0.0  1.0  \n",
       "4     0.0  0.0     0.0    1.0     0.0       0.0       0.0  0.0  \n",
       "5     0.0  0.0     0.0    0.0     0.0       0.0       0.0  0.0  \n",
       "...   ...  ...     ...    ...     ...       ...       ...  ...  \n",
       "1984  0.0  1.0     0.0    1.0     0.0       0.0       0.0  1.0  \n",
       "1985  0.0  1.0     0.0    1.0     0.0       0.0       0.0  0.0  \n",
       "1986  0.0  0.0     0.0    1.0     0.0       0.0       0.0  0.0  \n",
       "1987  0.0  1.0     0.0    1.0     0.0       0.0       0.0  1.0  \n",
       "1988  0.0  1.0     0.0    1.0     0.0       0.0       0.0  1.0  \n",
       "\n",
       "[1971 rows x 16 columns]"
      ]
     },
     "execution_count": 32,
     "metadata": {},
     "output_type": "execute_result"
    }
   ],
   "source": [
    "loan = pd.read_stata('./data/loanapp.dta')\n",
    "# 选取要用的变量组成新的数据集\n",
    "loan=loan[[\"approve\",\"white\",\"hrat\",\"obrat\",\"loanprc\",\"unem\",\"male\",\"married\",\"dep\",\"sch\",\"cosign\",\"chist\",\"pubrec\",\"mortlat1\",\"mortlat2\",\"vr\"]]\n",
    "loan.dropna() #去除含缺失值样本"
   ]
  },
  {
   "cell_type": "markdown",
   "id": "6b188c0c-efd6-42c3-af9e-a85e8987a585",
   "metadata": {},
   "source": [
    "**使用python进行实操并回答以下问题**\n",
    "\n",
    "（1）：先考虑一个线性概率模型\n",
    "$$approve = \\beta_0+\\beta_1white+u$$\n",
    "如果存在种族歧视，那么$\\beta1$的符号应如何？"
   ]
  },
  {
   "cell_type": "code",
   "execution_count": 33,
   "id": "d6808dec-8178-41d4-bdc1-4257170592ed",
   "metadata": {},
   "outputs": [
    {
     "data": {
      "text/plain": [
       "1.0    1681\n",
       "0.0     308\n",
       "Name: white, dtype: int64"
      ]
     },
     "execution_count": 33,
     "metadata": {},
     "output_type": "execute_result"
    }
   ],
   "source": [
    "loan['white'].value_counts()"
   ]
  },
  {
   "cell_type": "markdown",
   "id": "eb50916a-7c88-4cf8-8e12-3f1fac935220",
   "metadata": {},
   "source": [
    "答：如果存在种族歧视，那么$beta_1$的符号应该大于0。因为黑人对应的white=0，所以不容易从黑人角度分析。相反的，因为对于白人white=1，其对应的approve=1，样本中白人:黑人=1681:308，因此如果存在种族歧视，那么就需要保证大部分的白人都能成功申请，所以要保证$\\beta_1\\gt 0$"
   ]
  },
  {
   "cell_type": "markdown",
   "id": "7beefdab-2430-4bcd-a0a4-06409364fb21",
   "metadata": {},
   "source": [
    "（2）：用OLS估计上述模型，解释参数估计的意义，其显著性如何？实际上大吗？"
   ]
  },
  {
   "cell_type": "code",
   "execution_count": 34,
   "id": "81913afd-b805-4c1a-a7c3-b4c308c93dd4",
   "metadata": {},
   "outputs": [
    {
     "name": "stdout",
     "output_type": "stream",
     "text": [
      "                            OLS Regression Results                            \n",
      "==============================================================================\n",
      "Dep. Variable:                approve   R-squared:                       0.049\n",
      "Model:                            OLS   Adj. R-squared:                  0.048\n",
      "Method:                 Least Squares   F-statistic:                     102.2\n",
      "Date:                Sun, 24 Jul 2022   Prob (F-statistic):           1.81e-23\n",
      "Time:                        03:34:55   Log-Likelihood:                -555.54\n",
      "No. Observations:                1989   AIC:                             1115.\n",
      "Df Residuals:                    1987   BIC:                             1126.\n",
      "Df Model:                           1                                         \n",
      "Covariance Type:            nonrobust                                         \n",
      "==============================================================================\n",
      "                 coef    std err          t      P>|t|      [0.025      0.975]\n",
      "------------------------------------------------------------------------------\n",
      "Intercept      0.7078      0.018     38.806      0.000       0.672       0.744\n",
      "white          0.2006      0.020     10.111      0.000       0.162       0.240\n",
      "==============================================================================\n",
      "Omnibus:                      801.085   Durbin-Watson:                   2.002\n",
      "Prob(Omnibus):                  0.000   Jarque-Bera (JB):             2394.523\n",
      "Skew:                          -2.161   Prob(JB):                         0.00\n",
      "Kurtosis:                       6.197   Cond. No.                         4.90\n",
      "==============================================================================\n",
      "\n",
      "Notes:\n",
      "[1] Standard Errors assume that the covariance matrix of the errors is correctly specified.\n"
     ]
    }
   ],
   "source": [
    "loanapp_lm = sm.formula.ols(\"approve~white\", data=loan).fit()\n",
    "print(loanapp_lm.summary())"
   ]
  },
  {
   "cell_type": "markdown",
   "id": "7656376b-b106-4fd1-8aeb-091dccd96834",
   "metadata": {},
   "source": [
    "参数$\\beta_1$的估计值为0.2006。其t值大于0，我们的原假设应该是$\\beta_1\\gt 0$，而备择假设却是小于0，那么此时的p值肯定是大于0.5的，因此我们不能拒绝原假设，可以认为存在种族歧视。但实际上，黑人的approve都为0.7078，是否通过申请还得看具体的阈值。"
   ]
  },
  {
   "cell_type": "markdown",
   "id": "0daec6e1-353c-45e3-a0b1-632b89f8289f",
   "metadata": {},
   "source": [
    "（3）：在上述模型中加入数据集中的其他所有自变量，此时white系数发生了什么变化？我们仍然可以认为存在黑人歧视现象吗？"
   ]
  },
  {
   "cell_type": "code",
   "execution_count": 35,
   "id": "c3d59567-52d3-4880-bc80-73ce89287e74",
   "metadata": {},
   "outputs": [
    {
     "name": "stdout",
     "output_type": "stream",
     "text": [
      "                            OLS Regression Results                            \n",
      "==============================================================================\n",
      "Dep. Variable:                approve   R-squared:                       0.166\n",
      "Model:                            OLS   Adj. R-squared:                  0.159\n",
      "Method:                 Least Squares   F-statistic:                     25.86\n",
      "Date:                Sun, 24 Jul 2022   Prob (F-statistic):           1.84e-66\n",
      "Time:                        03:34:56   Log-Likelihood:                -429.26\n",
      "No. Observations:                1971   AIC:                             890.5\n",
      "Df Residuals:                    1955   BIC:                             979.9\n",
      "Df Model:                          15                                         \n",
      "Covariance Type:            nonrobust                                         \n",
      "==============================================================================\n",
      "                 coef    std err          t      P>|t|      [0.025      0.975]\n",
      "------------------------------------------------------------------------------\n",
      "Intercept      0.9367      0.053     17.763      0.000       0.833       1.040\n",
      "white          0.1288      0.020      6.529      0.000       0.090       0.168\n",
      "hrat           0.0018      0.001      1.451      0.147      -0.001       0.004\n",
      "obrat         -0.0054      0.001     -4.930      0.000      -0.008      -0.003\n",
      "loanprc       -0.1473      0.038     -3.926      0.000      -0.221      -0.074\n",
      "unem          -0.0073      0.003     -2.282      0.023      -0.014      -0.001\n",
      "male          -0.0041      0.019     -0.220      0.826      -0.041       0.033\n",
      "married        0.0458      0.016      2.810      0.005       0.014       0.078\n",
      "dep           -0.0068      0.007     -1.019      0.308      -0.020       0.006\n",
      "sch            0.0018      0.017      0.105      0.916      -0.031       0.034\n",
      "cosign         0.0098      0.041      0.238      0.812      -0.071       0.090\n",
      "chist          0.1330      0.019      6.906      0.000       0.095       0.171\n",
      "pubrec        -0.2419      0.028     -8.571      0.000      -0.297      -0.187\n",
      "mortlat1      -0.0573      0.050     -1.145      0.252      -0.155       0.041\n",
      "mortlat2      -0.1137      0.067     -1.698      0.090      -0.245       0.018\n",
      "vr            -0.0314      0.014     -2.241      0.025      -0.059      -0.004\n",
      "==============================================================================\n",
      "Omnibus:                      685.691   Durbin-Watson:                   2.001\n",
      "Prob(Omnibus):                  0.000   Jarque-Bera (JB):             1902.139\n",
      "Skew:                          -1.855   Prob(JB):                         0.00\n",
      "Kurtosis:                       6.066   Cond. No.                         417.\n",
      "==============================================================================\n",
      "\n",
      "Notes:\n",
      "[1] Standard Errors assume that the covariance matrix of the errors is correctly specified.\n"
     ]
    }
   ],
   "source": [
    "formula = \"approve~\" + \"+\".join(loan.columns[1:])\n",
    "loanapp_lm_all = sm.formula.ols(formula, data=loan).fit()\n",
    "print(loanapp_lm_all.summary())"
   ]
  },
  {
   "cell_type": "markdown",
   "id": "b0a793db-6a98-4e0d-b8fb-0c50d5f7cc82",
   "metadata": {},
   "source": [
    "系数$\\beta_1$下降为0.1288，但是其t值仍然>0，与（2）相同，仍然可以认为存在种族歧视"
   ]
  },
  {
   "cell_type": "markdown",
   "id": "f48d4891-5329-4345-a426-34dc7910db96",
   "metadata": {},
   "source": [
    "（4）：允许种族效应与债务占比(obrat)有交互效应，请问交互效应显著吗？请解读这种交互效应。"
   ]
  },
  {
   "cell_type": "code",
   "execution_count": 38,
   "id": "26121072-bd6d-4d56-9974-f8d8fdf85fb2",
   "metadata": {},
   "outputs": [
    {
     "name": "stdout",
     "output_type": "stream",
     "text": [
      "                            OLS Regression Results                            \n",
      "==============================================================================\n",
      "Dep. Variable:                approve   R-squared:                       0.171\n",
      "Model:                            OLS   Adj. R-squared:                  0.164\n",
      "Method:                 Least Squares   F-statistic:                     25.17\n",
      "Date:                Sun, 24 Jul 2022   Prob (F-statistic):           2.37e-68\n",
      "Time:                        03:35:19   Log-Likelihood:                -422.99\n",
      "No. Observations:                1971   AIC:                             880.0\n",
      "Df Residuals:                    1954   BIC:                             974.9\n",
      "Df Model:                          16                                         \n",
      "Covariance Type:            nonrobust                                         \n",
      "====================================================================================\n",
      "                       coef    std err          t      P>|t|      [0.025      0.975]\n",
      "------------------------------------------------------------------------------------\n",
      "Intercept            1.1806      0.087     13.601      0.000       1.010       1.351\n",
      "white               -0.1460      0.080     -1.819      0.069      -0.303       0.011\n",
      "hrat                 0.0018      0.001      1.421      0.156      -0.001       0.004\n",
      "obrat               -0.0122      0.002     -5.518      0.000      -0.017      -0.008\n",
      "loanprc             -0.1525      0.037     -4.075      0.000      -0.226      -0.079\n",
      "unem                -0.0075      0.003     -2.360      0.018      -0.014      -0.001\n",
      "male                -0.0060      0.019     -0.320      0.749      -0.043       0.031\n",
      "married              0.0455      0.016      2.800      0.005       0.014       0.077\n",
      "dep                 -0.0076      0.007     -1.141      0.254      -0.021       0.005\n",
      "sch                  0.0018      0.017      0.107      0.915      -0.031       0.034\n",
      "cosign               0.0177      0.041      0.431      0.666      -0.063       0.098\n",
      "chist                0.1299      0.019      6.754      0.000       0.092       0.168\n",
      "pubrec              -0.2403      0.028     -8.538      0.000      -0.296      -0.185\n",
      "mortlat1            -0.0628      0.050     -1.258      0.208      -0.161       0.035\n",
      "mortlat2            -0.1268      0.067     -1.896      0.058      -0.258       0.004\n",
      "vr                  -0.0305      0.014     -2.183      0.029      -0.058      -0.003\n",
      "I(white * obrat)     0.0081      0.002      3.531      0.000       0.004       0.013\n",
      "==============================================================================\n",
      "Omnibus:                      696.766   Durbin-Watson:                   2.007\n",
      "Prob(Omnibus):                  0.000   Jarque-Bera (JB):             1990.841\n",
      "Skew:                          -1.869   Prob(JB):                         0.00\n",
      "Kurtosis:                       6.205   Cond. No.                         853.\n",
      "==============================================================================\n",
      "\n",
      "Notes:\n",
      "[1] Standard Errors assume that the covariance matrix of the errors is correctly specified.\n"
     ]
    },
    {
     "data": {
      "text/html": [
       "<div>\n",
       "<style scoped>\n",
       "    .dataframe tbody tr th:only-of-type {\n",
       "        vertical-align: middle;\n",
       "    }\n",
       "\n",
       "    .dataframe tbody tr th {\n",
       "        vertical-align: top;\n",
       "    }\n",
       "\n",
       "    .dataframe thead th {\n",
       "        text-align: right;\n",
       "    }\n",
       "</style>\n",
       "<table border=\"1\" class=\"dataframe\">\n",
       "  <thead>\n",
       "    <tr style=\"text-align: right;\">\n",
       "      <th></th>\n",
       "      <th>df_resid</th>\n",
       "      <th>ssr</th>\n",
       "      <th>df_diff</th>\n",
       "      <th>ss_diff</th>\n",
       "      <th>F</th>\n",
       "      <th>Pr(&gt;F)</th>\n",
       "    </tr>\n",
       "  </thead>\n",
       "  <tbody>\n",
       "    <tr>\n",
       "      <th>0</th>\n",
       "      <td>1956.0</td>\n",
       "      <td>182.282812</td>\n",
       "      <td>0.0</td>\n",
       "      <td>NaN</td>\n",
       "      <td>NaN</td>\n",
       "      <td>NaN</td>\n",
       "    </tr>\n",
       "    <tr>\n",
       "      <th>1</th>\n",
       "      <td>1954.0</td>\n",
       "      <td>177.262206</td>\n",
       "      <td>2.0</td>\n",
       "      <td>5.020606</td>\n",
       "      <td>27.671617</td>\n",
       "      <td>1.410622e-12</td>\n",
       "    </tr>\n",
       "  </tbody>\n",
       "</table>\n",
       "</div>"
      ],
      "text/plain": [
       "   df_resid         ssr  df_diff   ss_diff          F        Pr(>F)\n",
       "0    1956.0  182.282812      0.0       NaN        NaN           NaN\n",
       "1    1954.0  177.262206      2.0  5.020606  27.671617  1.410622e-12"
      ]
     },
     "execution_count": 38,
     "metadata": {},
     "output_type": "execute_result"
    }
   ],
   "source": [
    "formular_ur = \"approve~\" + \"+\".join(loan.columns[1:]) + \"+I(white*obrat)\"\n",
    "loanapp_lm_ur = sm.formula.ols(formular_ur, data=loan).fit()\n",
    "print(loanapp_lm_ur.summary())\n",
    "\n",
    "formular_r = \"approve~\" +\"+\".join(loan.columns[2:])\n",
    "loanapp_lm_r = sm.formula.ols(formular_r, data=loan).fit()\n",
    "\n",
    "from statsmodels.stats.anova import anova_lm\n",
    "anova_lm(loanapp_lm_r, loanapp_lm_ur)"
   ]
  },
  {
   "cell_type": "markdown",
   "id": "9bee2e31-ddc8-4ed1-9cc4-1e3aa6b02f44",
   "metadata": {},
   "source": [
    "从t检验的结果来看，交互项的p值为0.000，因此拒绝原假设，即不能认为不同人种间的债务占比相同；而F检验的结果也是相当显著，拒绝原假设，也就是说不同人种的申请成功率存在明显差异。综合来看，不同人种申请成功率存在明显差异，可以认为有债务占比的影响。"
   ]
  },
  {
   "cell_type": "markdown",
   "id": "6f69b115-c0cf-467a-b038-4a45c9348f04",
   "metadata": {},
   "source": [
    "（5）：使用logit模型与probit模型重新（3）中的模型，观察变量系数及其显著性的变化。"
   ]
  },
  {
   "cell_type": "code",
   "execution_count": 39,
   "id": "a25377db-4b93-4e87-b9b4-12a25c19fc37",
   "metadata": {},
   "outputs": [
    {
     "name": "stdout",
     "output_type": "stream",
     "text": [
      "Optimization terminated successfully.\n",
      "         Current function value: 0.304666\n",
      "         Iterations 7\n",
      "                           Logit Regression Results                           \n",
      "==============================================================================\n",
      "Dep. Variable:                approve   No. Observations:                 1971\n",
      "Model:                          Logit   Df Residuals:                     1955\n",
      "Method:                           MLE   Df Model:                           15\n",
      "Date:                Sun, 24 Jul 2022   Pseudo R-squ.:                  0.1863\n",
      "Time:                        03:35:19   Log-Likelihood:                -600.50\n",
      "converged:                       True   LL-Null:                       -737.98\n",
      "Covariance Type:            nonrobust   LLR p-value:                 8.693e-50\n",
      "==============================================================================\n",
      "                 coef    std err          z      P>|z|      [0.025      0.975]\n",
      "------------------------------------------------------------------------------\n",
      "Intercept      3.8017      0.595      6.393      0.000       2.636       4.967\n",
      "white          0.9378      0.173      5.424      0.000       0.599       1.277\n",
      "hrat           0.0133      0.013      1.030      0.303      -0.012       0.039\n",
      "obrat         -0.0530      0.011     -4.701      0.000      -0.075      -0.031\n",
      "loanprc       -1.9050      0.460     -4.137      0.000      -2.807      -1.002\n",
      "unem          -0.0666      0.033     -2.029      0.042      -0.131      -0.002\n",
      "male          -0.0664      0.206     -0.322      0.748      -0.471       0.338\n",
      "married        0.5033      0.178      2.827      0.005       0.154       0.852\n",
      "dep           -0.0907      0.073     -1.237      0.216      -0.234       0.053\n",
      "sch            0.0412      0.178      0.231      0.817      -0.308       0.391\n",
      "cosign         0.1321      0.446      0.296      0.767      -0.742       1.006\n",
      "chist          1.0666      0.171      6.230      0.000       0.731       1.402\n",
      "pubrec        -1.3407      0.217     -6.168      0.000      -1.767      -0.915\n",
      "mortlat1      -0.3099      0.464     -0.669      0.504      -1.218       0.599\n",
      "mortlat2      -0.8947      0.569     -1.574      0.116      -2.009       0.220\n",
      "vr            -0.3498      0.154     -2.276      0.023      -0.651      -0.049\n",
      "==============================================================================\n",
      "Optimization terminated successfully.\n",
      "         Current function value: 0.304551\n",
      "         Iterations 6\n",
      "                          Probit Regression Results                           \n",
      "==============================================================================\n",
      "Dep. Variable:                approve   No. Observations:                 1971\n",
      "Model:                         Probit   Df Residuals:                     1955\n",
      "Method:                           MLE   Df Model:                           15\n",
      "Date:                Sun, 24 Jul 2022   Pseudo R-squ.:                  0.1866\n",
      "Time:                        03:35:19   Log-Likelihood:                -600.27\n",
      "converged:                       True   LL-Null:                       -737.98\n",
      "Covariance Type:            nonrobust   LLR p-value:                 7.014e-50\n",
      "==============================================================================\n",
      "                 coef    std err          z      P>|z|      [0.025      0.975]\n",
      "------------------------------------------------------------------------------\n",
      "Intercept      2.0623      0.313      6.585      0.000       1.449       2.676\n",
      "white          0.5203      0.097      5.366      0.000       0.330       0.710\n",
      "hrat           0.0079      0.007      1.131      0.258      -0.006       0.022\n",
      "obrat         -0.0277      0.006     -4.578      0.000      -0.040      -0.016\n",
      "loanprc       -1.0120      0.237     -4.266      0.000      -1.477      -0.547\n",
      "unem          -0.0367      0.017     -2.099      0.036      -0.071      -0.002\n",
      "male          -0.0370      0.110     -0.337      0.736      -0.252       0.178\n",
      "married        0.2657      0.094      2.820      0.005       0.081       0.450\n",
      "dep           -0.0496      0.039     -1.269      0.204      -0.126       0.027\n",
      "sch            0.0146      0.096      0.153      0.879      -0.173       0.202\n",
      "cosign         0.0861      0.246      0.350      0.726      -0.396       0.568\n",
      "chist          0.5853      0.096      6.098      0.000       0.397       0.773\n",
      "pubrec        -0.7787      0.126     -6.165      0.000      -1.026      -0.531\n",
      "mortlat1      -0.1876      0.253     -0.741      0.459      -0.684       0.308\n",
      "mortlat2      -0.4944      0.327     -1.514      0.130      -1.134       0.146\n",
      "vr            -0.2011      0.081     -2.467      0.014      -0.361      -0.041\n",
      "==============================================================================\n"
     ]
    }
   ],
   "source": [
    "loanapp_logit = sm.formula.logit(formula, data=loan).fit()\n",
    "print(loanapp_logit.summary())\n",
    "\n",
    "loanapp_probit = sm.formula.probit(formula, data=loan).fit()\n",
    "print(loanapp_probit.summary())"
   ]
  },
  {
   "cell_type": "markdown",
   "id": "85c65ef7-6c94-478f-a3eb-60653d18fca4",
   "metadata": {},
   "source": [
    "相比于（3）中的模型，系数增加幅度较大，但是显著性没有明显变化，都是接受原假设，认为人种对贷款申请成功率有影响。"
   ]
  },
  {
   "cell_type": "markdown",
   "id": "728f36d9-aad6-40b4-8399-aa4436718ef1",
   "metadata": {},
   "source": [
    "### 4.2. 作业2——多分类：鸢尾花分类问题"
   ]
  },
  {
   "cell_type": "code",
   "execution_count": 40,
   "id": "72259e0b-94d7-4834-ab04-82c654102999",
   "metadata": {},
   "outputs": [],
   "source": [
    "# 下载数据集\n",
    "from sklearn.datasets import load_iris\n",
    "iris_dataset=load_iris()\n",
    "\n",
    "# 提取数据集中的自变量集与标签集\n",
    "iris_data=iris_dataset['data'] # 自变量\n",
    "iris_target=iris_dataset['target'] # 标签集"
   ]
  },
  {
   "cell_type": "markdown",
   "id": "fc51203f-7777-40c0-934e-c25a5dd79745",
   "metadata": {},
   "source": [
    "**使用python进行实操并回答以下问题**\n",
    "\n",
    "（1）：将原数据集划分为训练集与测试集，两者样本比例为3:1。"
   ]
  },
  {
   "cell_type": "code",
   "execution_count": 41,
   "id": "b8c39ccf-5d38-49af-904b-08e74fc36668",
   "metadata": {},
   "outputs": [],
   "source": [
    "from sklearn.model_selection import train_test_split"
   ]
  },
  {
   "cell_type": "code",
   "execution_count": 42,
   "id": "42cabdc0-259a-4980-b241-cdeb2287e4ab",
   "metadata": {},
   "outputs": [
    {
     "name": "stdout",
     "output_type": "stream",
     "text": [
      "训练集大小：112\n",
      "测试集大小：38\n"
     ]
    }
   ],
   "source": [
    "x_train, x_test, y_train, y_test = train_test_split(iris_data, iris_target, test_size=0.25, random_state=42)\n",
    "print(f\"训练集大小：{len(x_train)}\")\n",
    "print(f\"测试集大小：{len(x_test)}\")"
   ]
  },
  {
   "cell_type": "markdown",
   "id": "84fe7ba1-583e-4860-b7bc-9606f3f4c652",
   "metadata": {},
   "source": [
    "（2）：使用训练集数据训练logistic回归模型，并分别对训练集与测试集数据进行预测，并将预测的结果分别储存在两个自定义的变量中。"
   ]
  },
  {
   "cell_type": "code",
   "execution_count": 43,
   "id": "fc6fa274-5d99-4acc-9055-5fb1a50a6ca8",
   "metadata": {},
   "outputs": [],
   "source": [
    "lr = LogisticRegression(multi_class=\"multinomial\").fit(x_train, y_train)\n",
    "y_pred_train = lr.predict(x_train)\n",
    "y_pred = lr.predict(x_test)"
   ]
  },
  {
   "cell_type": "markdown",
   "id": "97282503-fabc-40d4-b7bf-ddde4e241329",
   "metadata": {},
   "source": [
    "（3）：使用函数接口计算出：模型对训练集数据的分类正确率、模型对测试集数据的分类正确率，比较它们孰高孰低，并思考为什么会有这样的差异。"
   ]
  },
  {
   "cell_type": "code",
   "execution_count": 44,
   "id": "5fa6a22b-6df7-40a0-b597-6744e66140c5",
   "metadata": {},
   "outputs": [
    {
     "name": "stdout",
     "output_type": "stream",
     "text": [
      "#############################训练集数据#############################\n",
      "0.9642857142857143\n",
      "#############################测试集数据#############################\n",
      "1.0\n"
     ]
    }
   ],
   "source": [
    "print(\"#############################训练集数据#############################\")\n",
    "confusion_matrix_train = confusion_matrix(y_train, y_pred_train)\n",
    "print(np.diagonal(confusion_matrix_train).sum() / np.sum(confusion_matrix_train))\n",
    "print(\"#############################测试集数据#############################\")\n",
    "confusion_matrix_test = confusion_matrix(y_test, y_pred)\n",
    "print(np.diagonal(confusion_matrix_test).sum() / np.sum(confusion_matrix_test))"
   ]
  },
  {
   "cell_type": "markdown",
   "id": "3d12a5c3-e931-414f-bc27-9c273bfa34f6",
   "metadata": {},
   "source": [
    "按照常理而言，模型对训练集的拟合程度应该更好，所以正常情况下应该是模型在训练集上的分类正确率要高于测试集。但是这里出现了相反的情况，这其实跟我们的数据分布分不开的，机器学习模型的表现很大程度上依赖于数据，这里其实我们测试集样本相对较少，所以就可能出现对测试集的分类正确率更高。"
   ]
  },
  {
   "cell_type": "markdown",
   "id": "ca9473cb-7559-4690-aceb-0fe8eb2f91ec",
   "metadata": {},
   "source": [
    "（4）：给出测试集数据的混淆矩阵以及精确率、召回率、f分数的综合报告。"
   ]
  },
  {
   "cell_type": "code",
   "execution_count": 45,
   "id": "8714f2a1-dfbb-4ae9-a44b-85145b4bcc4f",
   "metadata": {},
   "outputs": [
    {
     "name": "stdout",
     "output_type": "stream",
     "text": [
      "              precision    recall  f1-score   support\n",
      "\n",
      "           0       1.00      1.00      1.00        15\n",
      "           1       1.00      1.00      1.00        11\n",
      "           2       1.00      1.00      1.00        12\n",
      "\n",
      "    accuracy                           1.00        38\n",
      "   macro avg       1.00      1.00      1.00        38\n",
      "weighted avg       1.00      1.00      1.00        38\n",
      "\n"
     ]
    }
   ],
   "source": [
    "print(classification_report(y_test, y_pred))"
   ]
  },
  {
   "cell_type": "code",
   "execution_count": 46,
   "id": "897585cc-9274-4c7c-b47f-4151f04e19c1",
   "metadata": {},
   "outputs": [
    {
     "name": "stdout",
     "output_type": "stream",
     "text": [
      "              precision    recall  f1-score   support\n",
      "\n",
      "           0       1.00      1.00      1.00        13\n",
      "           1       1.00      0.94      0.97        16\n",
      "           2       0.90      1.00      0.95         9\n",
      "\n",
      "    accuracy                           0.97        38\n",
      "   macro avg       0.97      0.98      0.97        38\n",
      "weighted avg       0.98      0.97      0.97        38\n",
      "\n"
     ]
    }
   ],
   "source": [
    "## 我们重新生成数据\n",
    "import warnings\n",
    "warnings.filterwarnings('ignore')\n",
    "x_train, x_test, y_train, y_test = train_test_split(iris_data, iris_target, test_size=0.25, random_state=0)\n",
    "lr = LogisticRegression(multi_class=\"multinomial\").fit(x_train, y_train)\n",
    "y_pred = lr.predict(x_test)\n",
    "print(classification_report(y_test, y_pred))"
   ]
  }
 ],
 "metadata": {
  "kernelspec": {
   "display_name": "Python 3",
   "language": "python",
   "name": "python3"
  },
  "language_info": {
   "codemirror_mode": {
    "name": "ipython",
    "version": 3
   },
   "file_extension": ".py",
   "mimetype": "text/x-python",
   "name": "python",
   "nbconvert_exporter": "python",
   "pygments_lexer": "ipython3",
   "version": "3.7.10"
  },
  "toc-showmarkdowntxt": false
 },
 "nbformat": 4,
 "nbformat_minor": 5
}
